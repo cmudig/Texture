{
 "cells": [
  {
   "cell_type": "markdown",
   "metadata": {},
   "source": [
    "# Data Valuation experiments\n"
   ]
  },
  {
   "cell_type": "code",
   "execution_count": 1,
   "metadata": {},
   "outputs": [
    {
     "name": "stderr",
     "output_type": "stream",
     "text": [
      "/Users/wepperso/miniconda3/envs/data-valuation/lib/python3.10/site-packages/tqdm/auto.py:22: TqdmWarning: IProgress not found. Please update jupyter and ipywidgets. See https://ipywidgets.readthedocs.io/en/stable/user_install.html\n",
      "  from .autonotebook import tqdm as notebook_tqdm\n"
     ]
    },
    {
     "name": "stdout",
     "output_type": "stream",
     "text": [
      "[KeOps] Warning : Cuda libraries were not detected on the system ; using cpu only mode\n"
     ]
    }
   ],
   "source": [
    "import opendataval\n",
    "from opendataval.experiment import ExperimentMediator\n",
    "from opendataval.dataval import DataOob\n",
    "from opendataval.experiment import discover_corrupted_sample, noisy_detection"
   ]
  },
  {
   "cell_type": "code",
   "execution_count": 2,
   "metadata": {},
   "outputs": [],
   "source": [
    "from opendataval.dataval import LavaEvaluator"
   ]
  },
  {
   "cell_type": "code",
   "execution_count": 3,
   "metadata": {},
   "outputs": [
    {
     "name": "stdout",
     "output_type": "stream",
     "text": [
      "Base line model metric_name=None: perf=0.7200000286102295\n"
     ]
    },
    {
     "name": "stderr",
     "output_type": "stream",
     "text": [
      "100%|██████████| 1000/1000 [00:20<00:00, 49.52it/s]\n"
     ]
    },
    {
     "name": "stdout",
     "output_type": "stream",
     "text": [
      "Elapsed time DataOob(): 0:00:20.232496\n"
     ]
    },
    {
     "name": "stderr",
     "output_type": "stream",
     "text": [
      "                                                                        "
     ]
    },
    {
     "name": "stdout",
     "output_type": "stream",
     "text": [
      "Elapsed time LavaEvaluator(): 0:00:00.059233\n"
     ]
    },
    {
     "name": "stderr",
     "output_type": "stream",
     "text": [
      "\r"
     ]
    }
   ],
   "source": [
    "exper_med = ExperimentMediator.model_factory_setup(\n",
    "    dataset_name=\"iris\",\n",
    "    force_download=False,\n",
    "    train_count=50,\n",
    "    valid_count=50,\n",
    "    test_count=50,\n",
    "    model_name=\"ClassifierMLP\",\n",
    "    train_kwargs={\"epochs\": 5, \"batch_size\": 20},\n",
    ")\n",
    "list_of_data_evaluators = [DataOob(), LavaEvaluator()]  # Define evaluators here\n",
    "eval_med = exper_med.compute_data_values(list_of_data_evaluators)"
   ]
  },
  {
   "cell_type": "code",
   "execution_count": 12,
   "metadata": {},
   "outputs": [
    {
     "data": {
      "text/plain": [
       "LavaEvaluator()"
      ]
     },
     "execution_count": 12,
     "metadata": {},
     "output_type": "execute_result"
    }
   ],
   "source": [
    "eval_med.data_evaluators[1]"
   ]
  },
  {
   "cell_type": "code",
   "execution_count": 14,
   "metadata": {},
   "outputs": [
    {
     "data": {
      "text/plain": [
       "array([ 0.00178608, -0.36993575,  0.41118464,  0.91004014,  1.0497376 ,\n",
       "       -0.6074105 , -0.22826576, -0.7749545 , -0.3584718 , -0.40745372,\n",
       "        1.0059164 ,  0.9994163 ,  0.94270694, -0.37196338,  1.0250545 ,\n",
       "        1.0015295 , -0.04485211, -0.07576564,  0.5289267 , -0.04297796,\n",
       "       -0.21570796,  0.03471473,  1.0409892 , -0.4434923 , -0.22245353,\n",
       "       -0.7434915 , -0.57483166, -0.7602597 , -0.8902864 , -0.28368092,\n",
       "       -0.1855979 , -0.59007496,  0.9598108 , -0.99189585,  1.0058463 ,\n",
       "        0.00851887, -0.41508216, -0.78080934,  0.86864686, -0.505273  ,\n",
       "        0.07293239, -0.77520114,  0.02840191,  1.05374   , -0.6787625 ,\n",
       "       -0.6215208 , -0.39144045, -0.10503185,  0.11736715,  0.3896793 ],\n",
       "      dtype=float32)"
      ]
     },
     "execution_count": 14,
     "metadata": {},
     "output_type": "execute_result"
    }
   ],
   "source": [
    "# dir(eval_med)\n",
    "\n",
    "eval_med.data_evaluators[1].evaluate_data_values()"
   ]
  },
  {
   "cell_type": "code",
   "execution_count": 15,
   "metadata": {},
   "outputs": [],
   "source": [
    "import pandas as pd\n",
    "\n",
    "df = pd.read_csv(\"../datasets/processed/vast2021/vast2021.csv\")"
   ]
  },
  {
   "cell_type": "code",
   "execution_count": 16,
   "metadata": {},
   "outputs": [
    {
     "data": {
      "text/html": [
       "<div>\n",
       "<style scoped>\n",
       "    .dataframe tbody tr th:only-of-type {\n",
       "        vertical-align: middle;\n",
       "    }\n",
       "\n",
       "    .dataframe tbody tr th {\n",
       "        vertical-align: top;\n",
       "    }\n",
       "\n",
       "    .dataframe thead th {\n",
       "        text-align: right;\n",
       "    }\n",
       "</style>\n",
       "<table border=\"1\" class=\"dataframe\">\n",
       "  <thead>\n",
       "    <tr style=\"text-align: right;\">\n",
       "      <th></th>\n",
       "      <th>type</th>\n",
       "      <th>date(yyyyMMddHHmmss)</th>\n",
       "      <th>author</th>\n",
       "      <th>message</th>\n",
       "      <th>latitude</th>\n",
       "      <th>longitude</th>\n",
       "      <th>location</th>\n",
       "      <th>date</th>\n",
       "      <th>message_text_length</th>\n",
       "      <th>message_num_words</th>\n",
       "      <th>message_max_word_length</th>\n",
       "      <th>message_avg_word_length</th>\n",
       "      <th>message_perc_special_chars</th>\n",
       "      <th>message_dist_from_mean_embed_all-mpnet-base-v2</th>\n",
       "      <th>message_outlier_score_ECOD_all-mpnet-base-v2</th>\n",
       "      <th>message_outlier_score_IForest_all-mpnet-base-v2</th>\n",
       "    </tr>\n",
       "  </thead>\n",
       "  <tbody>\n",
       "    <tr>\n",
       "      <th>0</th>\n",
       "      <td>mbdata</td>\n",
       "      <td>20140123170000</td>\n",
       "      <td>POK</td>\n",
       "      <td>Follow us @POK-Kronos</td>\n",
       "      <td>NaN</td>\n",
       "      <td>NaN</td>\n",
       "      <td>NaN</td>\n",
       "      <td>2014-01-23 17:00:00</td>\n",
       "      <td>21</td>\n",
       "      <td>3</td>\n",
       "      <td>11</td>\n",
       "      <td>6.333333</td>\n",
       "      <td>0.095238</td>\n",
       "      <td>0.483796</td>\n",
       "      <td>1323.086876</td>\n",
       "      <td>-0.011900</td>\n",
       "    </tr>\n",
       "    <tr>\n",
       "      <th>1</th>\n",
       "      <td>mbdata</td>\n",
       "      <td>20140123170000</td>\n",
       "      <td>maha_Homeland</td>\n",
       "      <td>Don't miss a moment!  Follow our live coverage...</td>\n",
       "      <td>NaN</td>\n",
       "      <td>NaN</td>\n",
       "      <td>NaN</td>\n",
       "      <td>2014-01-23 17:00:00</td>\n",
       "      <td>76</td>\n",
       "      <td>15</td>\n",
       "      <td>8</td>\n",
       "      <td>4.066667</td>\n",
       "      <td>0.039474</td>\n",
       "      <td>0.480657</td>\n",
       "      <td>1305.140758</td>\n",
       "      <td>-0.035877</td>\n",
       "    </tr>\n",
       "    <tr>\n",
       "      <th>2</th>\n",
       "      <td>mbdata</td>\n",
       "      <td>20140123170000</td>\n",
       "      <td>Viktor-E</td>\n",
       "      <td>Come join us in the Park! Music tonight at Abi...</td>\n",
       "      <td>NaN</td>\n",
       "      <td>NaN</td>\n",
       "      <td>NaN</td>\n",
       "      <td>2014-01-23 17:00:00</td>\n",
       "      <td>59</td>\n",
       "      <td>12</td>\n",
       "      <td>7</td>\n",
       "      <td>4.000000</td>\n",
       "      <td>0.033898</td>\n",
       "      <td>0.244943</td>\n",
       "      <td>1450.367979</td>\n",
       "      <td>-0.011328</td>\n",
       "    </tr>\n",
       "    <tr>\n",
       "      <th>3</th>\n",
       "      <td>mbdata</td>\n",
       "      <td>20140123170000</td>\n",
       "      <td>KronosStar</td>\n",
       "      <td>POK rally to start in Abila City Park. POK lea...</td>\n",
       "      <td>NaN</td>\n",
       "      <td>NaN</td>\n",
       "      <td>NaN</td>\n",
       "      <td>2014-01-23 17:00:00</td>\n",
       "      <td>98</td>\n",
       "      <td>18</td>\n",
       "      <td>11</td>\n",
       "      <td>4.500000</td>\n",
       "      <td>0.030612</td>\n",
       "      <td>0.590631</td>\n",
       "      <td>1224.604369</td>\n",
       "      <td>-0.034071</td>\n",
       "    </tr>\n",
       "    <tr>\n",
       "      <th>4</th>\n",
       "      <td>mbdata</td>\n",
       "      <td>20140123170000</td>\n",
       "      <td>AbilaPost</td>\n",
       "      <td>POK rally set to take place in Abila City Park...</td>\n",
       "      <td>NaN</td>\n",
       "      <td>NaN</td>\n",
       "      <td>NaN</td>\n",
       "      <td>2014-01-23 17:00:00</td>\n",
       "      <td>114</td>\n",
       "      <td>21</td>\n",
       "      <td>10</td>\n",
       "      <td>4.476190</td>\n",
       "      <td>0.017544</td>\n",
       "      <td>0.423691</td>\n",
       "      <td>1334.189955</td>\n",
       "      <td>0.000722</td>\n",
       "    </tr>\n",
       "    <tr>\n",
       "      <th>...</th>\n",
       "      <td>...</td>\n",
       "      <td>...</td>\n",
       "      <td>...</td>\n",
       "      <td>...</td>\n",
       "      <td>...</td>\n",
       "      <td>...</td>\n",
       "      <td>...</td>\n",
       "      <td>...</td>\n",
       "      <td>...</td>\n",
       "      <td>...</td>\n",
       "      <td>...</td>\n",
       "      <td>...</td>\n",
       "      <td>...</td>\n",
       "      <td>...</td>\n",
       "      <td>...</td>\n",
       "      <td>...</td>\n",
       "    </tr>\n",
       "    <tr>\n",
       "      <th>4058</th>\n",
       "      <td>mbdata</td>\n",
       "      <td>20140123213310</td>\n",
       "      <td>plasticParts</td>\n",
       "      <td>RT @AbilaPost unknown explosion heard from the...</td>\n",
       "      <td>NaN</td>\n",
       "      <td>NaN</td>\n",
       "      <td>NaN</td>\n",
       "      <td>2014-01-23 21:33:10</td>\n",
       "      <td>73</td>\n",
       "      <td>9</td>\n",
       "      <td>15</td>\n",
       "      <td>7.222222</td>\n",
       "      <td>0.041096</td>\n",
       "      <td>0.618477</td>\n",
       "      <td>1203.995495</td>\n",
       "      <td>-0.055174</td>\n",
       "    </tr>\n",
       "    <tr>\n",
       "      <th>4059</th>\n",
       "      <td>mbdata</td>\n",
       "      <td>20140123213345</td>\n",
       "      <td>klingon4real</td>\n",
       "      <td>RT @CentralBulletin explosion heard at dancing...</td>\n",
       "      <td>NaN</td>\n",
       "      <td>NaN</td>\n",
       "      <td>NaN</td>\n",
       "      <td>2014-01-23 21:33:45</td>\n",
       "      <td>88</td>\n",
       "      <td>10</td>\n",
       "      <td>16</td>\n",
       "      <td>7.900000</td>\n",
       "      <td>0.034091</td>\n",
       "      <td>0.590422</td>\n",
       "      <td>1192.543079</td>\n",
       "      <td>-0.035679</td>\n",
       "    </tr>\n",
       "    <tr>\n",
       "      <th>4060</th>\n",
       "      <td>mbdata</td>\n",
       "      <td>20140123213400</td>\n",
       "      <td>lindyT</td>\n",
       "      <td>RT @KronosStar There has been an explosion fro...</td>\n",
       "      <td>NaN</td>\n",
       "      <td>NaN</td>\n",
       "      <td>NaN</td>\n",
       "      <td>2014-01-23 21:34:00</td>\n",
       "      <td>147</td>\n",
       "      <td>19</td>\n",
       "      <td>19</td>\n",
       "      <td>6.736842</td>\n",
       "      <td>0.040816</td>\n",
       "      <td>0.697760</td>\n",
       "      <td>1148.108882</td>\n",
       "      <td>-0.042497</td>\n",
       "    </tr>\n",
       "    <tr>\n",
       "      <th>4061</th>\n",
       "      <td>mbdata</td>\n",
       "      <td>20140123213400</td>\n",
       "      <td>dolls4sale</td>\n",
       "      <td>RT @redisrad What was that? #boom</td>\n",
       "      <td>NaN</td>\n",
       "      <td>NaN</td>\n",
       "      <td>NaN</td>\n",
       "      <td>2014-01-23 21:34:00</td>\n",
       "      <td>33</td>\n",
       "      <td>6</td>\n",
       "      <td>9</td>\n",
       "      <td>4.666667</td>\n",
       "      <td>0.090909</td>\n",
       "      <td>0.534251</td>\n",
       "      <td>1264.899944</td>\n",
       "      <td>-0.046075</td>\n",
       "    </tr>\n",
       "    <tr>\n",
       "      <th>4062</th>\n",
       "      <td>mbdata</td>\n",
       "      <td>20140123213445</td>\n",
       "      <td>worldWatcher</td>\n",
       "      <td>RT @CentralBulletin explosion heard at dancing...</td>\n",
       "      <td>NaN</td>\n",
       "      <td>NaN</td>\n",
       "      <td>NaN</td>\n",
       "      <td>2014-01-23 21:34:45</td>\n",
       "      <td>88</td>\n",
       "      <td>10</td>\n",
       "      <td>16</td>\n",
       "      <td>7.900000</td>\n",
       "      <td>0.034091</td>\n",
       "      <td>0.590422</td>\n",
       "      <td>1192.543079</td>\n",
       "      <td>-0.035679</td>\n",
       "    </tr>\n",
       "  </tbody>\n",
       "</table>\n",
       "<p>4063 rows × 16 columns</p>\n",
       "</div>"
      ],
      "text/plain": [
       "        type  date(yyyyMMddHHmmss)         author  \\\n",
       "0     mbdata        20140123170000            POK   \n",
       "1     mbdata        20140123170000  maha_Homeland   \n",
       "2     mbdata        20140123170000       Viktor-E   \n",
       "3     mbdata        20140123170000     KronosStar   \n",
       "4     mbdata        20140123170000      AbilaPost   \n",
       "...      ...                   ...            ...   \n",
       "4058  mbdata        20140123213310   plasticParts   \n",
       "4059  mbdata        20140123213345   klingon4real   \n",
       "4060  mbdata        20140123213400         lindyT   \n",
       "4061  mbdata        20140123213400     dolls4sale   \n",
       "4062  mbdata        20140123213445   worldWatcher   \n",
       "\n",
       "                                                message  latitude  longitude  \\\n",
       "0                                 Follow us @POK-Kronos       NaN        NaN   \n",
       "1     Don't miss a moment!  Follow our live coverage...       NaN        NaN   \n",
       "2     Come join us in the Park! Music tonight at Abi...       NaN        NaN   \n",
       "3     POK rally to start in Abila City Park. POK lea...       NaN        NaN   \n",
       "4     POK rally set to take place in Abila City Park...       NaN        NaN   \n",
       "...                                                 ...       ...        ...   \n",
       "4058  RT @AbilaPost unknown explosion heard from the...       NaN        NaN   \n",
       "4059  RT @CentralBulletin explosion heard at dancing...       NaN        NaN   \n",
       "4060  RT @KronosStar There has been an explosion fro...       NaN        NaN   \n",
       "4061                  RT @redisrad What was that? #boom       NaN        NaN   \n",
       "4062  RT @CentralBulletin explosion heard at dancing...       NaN        NaN   \n",
       "\n",
       "     location                 date  message_text_length  message_num_words  \\\n",
       "0         NaN  2014-01-23 17:00:00                   21                  3   \n",
       "1         NaN  2014-01-23 17:00:00                   76                 15   \n",
       "2         NaN  2014-01-23 17:00:00                   59                 12   \n",
       "3         NaN  2014-01-23 17:00:00                   98                 18   \n",
       "4         NaN  2014-01-23 17:00:00                  114                 21   \n",
       "...       ...                  ...                  ...                ...   \n",
       "4058      NaN  2014-01-23 21:33:10                   73                  9   \n",
       "4059      NaN  2014-01-23 21:33:45                   88                 10   \n",
       "4060      NaN  2014-01-23 21:34:00                  147                 19   \n",
       "4061      NaN  2014-01-23 21:34:00                   33                  6   \n",
       "4062      NaN  2014-01-23 21:34:45                   88                 10   \n",
       "\n",
       "      message_max_word_length  message_avg_word_length  \\\n",
       "0                          11                 6.333333   \n",
       "1                           8                 4.066667   \n",
       "2                           7                 4.000000   \n",
       "3                          11                 4.500000   \n",
       "4                          10                 4.476190   \n",
       "...                       ...                      ...   \n",
       "4058                       15                 7.222222   \n",
       "4059                       16                 7.900000   \n",
       "4060                       19                 6.736842   \n",
       "4061                        9                 4.666667   \n",
       "4062                       16                 7.900000   \n",
       "\n",
       "      message_perc_special_chars  \\\n",
       "0                       0.095238   \n",
       "1                       0.039474   \n",
       "2                       0.033898   \n",
       "3                       0.030612   \n",
       "4                       0.017544   \n",
       "...                          ...   \n",
       "4058                    0.041096   \n",
       "4059                    0.034091   \n",
       "4060                    0.040816   \n",
       "4061                    0.090909   \n",
       "4062                    0.034091   \n",
       "\n",
       "      message_dist_from_mean_embed_all-mpnet-base-v2  \\\n",
       "0                                           0.483796   \n",
       "1                                           0.480657   \n",
       "2                                           0.244943   \n",
       "3                                           0.590631   \n",
       "4                                           0.423691   \n",
       "...                                              ...   \n",
       "4058                                        0.618477   \n",
       "4059                                        0.590422   \n",
       "4060                                        0.697760   \n",
       "4061                                        0.534251   \n",
       "4062                                        0.590422   \n",
       "\n",
       "      message_outlier_score_ECOD_all-mpnet-base-v2  \\\n",
       "0                                      1323.086876   \n",
       "1                                      1305.140758   \n",
       "2                                      1450.367979   \n",
       "3                                      1224.604369   \n",
       "4                                      1334.189955   \n",
       "...                                            ...   \n",
       "4058                                   1203.995495   \n",
       "4059                                   1192.543079   \n",
       "4060                                   1148.108882   \n",
       "4061                                   1264.899944   \n",
       "4062                                   1192.543079   \n",
       "\n",
       "      message_outlier_score_IForest_all-mpnet-base-v2  \n",
       "0                                           -0.011900  \n",
       "1                                           -0.035877  \n",
       "2                                           -0.011328  \n",
       "3                                           -0.034071  \n",
       "4                                            0.000722  \n",
       "...                                               ...  \n",
       "4058                                        -0.055174  \n",
       "4059                                        -0.035679  \n",
       "4060                                        -0.042497  \n",
       "4061                                        -0.046075  \n",
       "4062                                        -0.035679  \n",
       "\n",
       "[4063 rows x 16 columns]"
      ]
     },
     "execution_count": 16,
     "metadata": {},
     "output_type": "execute_result"
    }
   ],
   "source": [
    "df"
   ]
  },
  {
   "cell_type": "code",
   "execution_count": 17,
   "metadata": {},
   "outputs": [],
   "source": [
    "import torch\n",
    "\n",
    "# [4063, 768] dim\n",
    "message_embeddings = torch.load(\n",
    "    \"../datasets/processed/embedding_cache/DATA_vast2021COL_messageMODEL_all-mpnet-base-v2.pt\"\n",
    ")"
   ]
  },
  {
   "cell_type": "code",
   "execution_count": 19,
   "metadata": {},
   "outputs": [
    {
     "data": {
      "text/plain": [
       "torch.Size([4063, 768])"
      ]
     },
     "execution_count": 19,
     "metadata": {},
     "output_type": "execute_result"
    }
   ],
   "source": [
    "message_embeddings.shape"
   ]
  },
  {
   "cell_type": "markdown",
   "metadata": {},
   "source": [
    "TODO: I think it is not possible to use the data valuation algorithms without a class label. So for something like the twitter data I need a class label for this to be useful\n"
   ]
  },
  {
   "cell_type": "code",
   "execution_count": null,
   "metadata": {},
   "outputs": [],
   "source": [
    "# from opendataval.dataval.ame import AME\n",
    "\n",
    "# dataval = (\n",
    "#     AME(num_models=8000)\n",
    "#     .train(fetcher=fetcher, pred_model=model, metric=metric)\n",
    "# )\n",
    "\n",
    "# data_values = dataval.data_values  # Cached values\n",
    "# data_values = dataval.evaluate_data_values()  # Recomputed values"
   ]
  },
  {
   "cell_type": "markdown",
   "metadata": {},
   "source": [
    "# BBC classification data\n"
   ]
  },
  {
   "cell_type": "code",
   "execution_count": 90,
   "metadata": {},
   "outputs": [],
   "source": [
    "from opendataval.dataloader import DataFetcher\n",
    "\n",
    "# DataFetcher.datasets_available()"
   ]
  },
  {
   "cell_type": "code",
   "execution_count": 34,
   "metadata": {},
   "outputs": [
    {
     "name": "stderr",
     "output_type": "stream",
     "text": [
      "Downloading:: 618it [00:00, 5570.32it/s]\n",
      "tokenizer_config.json: 100%|██████████| 28.0/28.0 [00:00<00:00, 55.9kB/s]\n",
      "vocab.txt: 100%|██████████| 232k/232k [00:00<00:00, 6.98MB/s]\n",
      "tokenizer.json: 100%|██████████| 466k/466k [00:00<00:00, 18.1MB/s]\n",
      "config.json: 100%|██████████| 483/483 [00:00<00:00, 1.16MB/s]\n",
      "model.safetensors: 100%|██████████| 268M/268M [00:11<00:00, 23.6MB/s] \n",
      "18it [00:46,  2.60s/it]\n"
     ]
    }
   ],
   "source": [
    "# dataset names\n",
    "# 'bbc',\n",
    "# 'bbc-embeddings'\n",
    "from opendataval.dataloader import DataFetcher\n",
    "\n",
    "fetcher = DataFetcher(dataset_name=\"bbc-embeddings\")"
   ]
  },
  {
   "cell_type": "code",
   "execution_count": 36,
   "metadata": {},
   "outputs": [
    {
     "data": {
      "text/html": [
       "<div>\n",
       "<style scoped>\n",
       "    .dataframe tbody tr th:only-of-type {\n",
       "        vertical-align: middle;\n",
       "    }\n",
       "\n",
       "    .dataframe tbody tr th {\n",
       "        vertical-align: top;\n",
       "    }\n",
       "\n",
       "    .dataframe thead th {\n",
       "        text-align: right;\n",
       "    }\n",
       "</style>\n",
       "<table border=\"1\" class=\"dataframe\">\n",
       "  <thead>\n",
       "    <tr style=\"text-align: right;\">\n",
       "      <th></th>\n",
       "      <th>category</th>\n",
       "      <th>text</th>\n",
       "    </tr>\n",
       "  </thead>\n",
       "  <tbody>\n",
       "    <tr>\n",
       "      <th>0</th>\n",
       "      <td>tech</td>\n",
       "      <td>tv future in the hands of viewers with home th...</td>\n",
       "    </tr>\n",
       "    <tr>\n",
       "      <th>1</th>\n",
       "      <td>business</td>\n",
       "      <td>worldcom boss  left books alone  former worldc...</td>\n",
       "    </tr>\n",
       "    <tr>\n",
       "      <th>2</th>\n",
       "      <td>sport</td>\n",
       "      <td>tigers wary of farrell  gamble  leicester say ...</td>\n",
       "    </tr>\n",
       "    <tr>\n",
       "      <th>3</th>\n",
       "      <td>sport</td>\n",
       "      <td>yeading face newcastle in fa cup premiership s...</td>\n",
       "    </tr>\n",
       "    <tr>\n",
       "      <th>4</th>\n",
       "      <td>entertainment</td>\n",
       "      <td>ocean s twelve raids box office ocean s twelve...</td>\n",
       "    </tr>\n",
       "    <tr>\n",
       "      <th>...</th>\n",
       "      <td>...</td>\n",
       "      <td>...</td>\n",
       "    </tr>\n",
       "    <tr>\n",
       "      <th>2220</th>\n",
       "      <td>business</td>\n",
       "      <td>cars pull down us retail figures us retail sal...</td>\n",
       "    </tr>\n",
       "    <tr>\n",
       "      <th>2221</th>\n",
       "      <td>politics</td>\n",
       "      <td>kilroy unveils immigration policy ex-chatshow ...</td>\n",
       "    </tr>\n",
       "    <tr>\n",
       "      <th>2222</th>\n",
       "      <td>entertainment</td>\n",
       "      <td>rem announce new glasgow concert us band rem h...</td>\n",
       "    </tr>\n",
       "    <tr>\n",
       "      <th>2223</th>\n",
       "      <td>politics</td>\n",
       "      <td>how political squabbles snowball it s become c...</td>\n",
       "    </tr>\n",
       "    <tr>\n",
       "      <th>2224</th>\n",
       "      <td>sport</td>\n",
       "      <td>souness delight at euro progress boss graeme s...</td>\n",
       "    </tr>\n",
       "  </tbody>\n",
       "</table>\n",
       "<p>2225 rows × 2 columns</p>\n",
       "</div>"
      ],
      "text/plain": [
       "           category                                               text\n",
       "0              tech  tv future in the hands of viewers with home th...\n",
       "1          business  worldcom boss  left books alone  former worldc...\n",
       "2             sport  tigers wary of farrell  gamble  leicester say ...\n",
       "3             sport  yeading face newcastle in fa cup premiership s...\n",
       "4     entertainment  ocean s twelve raids box office ocean s twelve...\n",
       "...             ...                                                ...\n",
       "2220       business  cars pull down us retail figures us retail sal...\n",
       "2221       politics  kilroy unveils immigration policy ex-chatshow ...\n",
       "2222  entertainment  rem announce new glasgow concert us band rem h...\n",
       "2223       politics  how political squabbles snowball it s become c...\n",
       "2224          sport  souness delight at euro progress boss graeme s...\n",
       "\n",
       "[2225 rows x 2 columns]"
      ]
     },
     "execution_count": 36,
     "metadata": {},
     "output_type": "execute_result"
    }
   ],
   "source": [
    "bbc_raw = pd.read_csv(\"./data_files/bbc-embeddings/bbc-text.csv\")\n",
    "bbc_raw"
   ]
  },
  {
   "cell_type": "code",
   "execution_count": 46,
   "metadata": {},
   "outputs": [],
   "source": [
    "train_count = 1558  # .7\n",
    "valid_count = 445  # .2\n",
    "test_count = 222  # .1\n",
    "\n",
    "split_fetcher = fetcher.split_dataset_by_count(train_count, valid_count, test_count)\n",
    "# split_fetcher = fetcher.split_dataset_by_prop(.7, .2, .1)"
   ]
  },
  {
   "cell_type": "markdown",
   "metadata": {},
   "source": [
    "Train base model\n"
   ]
  },
  {
   "cell_type": "code",
   "execution_count": 58,
   "metadata": {},
   "outputs": [
    {
     "name": "stdout",
     "output_type": "stream",
     "text": [
      "Base line model accuracy= perf=0.977477490901947\n"
     ]
    }
   ],
   "source": [
    "from opendataval.model import LogisticRegression\n",
    "from opendataval.metrics import Metrics\n",
    "\n",
    "\n",
    "model = LogisticRegression(\n",
    "    *split_fetcher.covar_dim,  # input size\n",
    "    *split_fetcher.label_dim,  # number of classes\n",
    ")\n",
    "\n",
    "# Prints base line performance\n",
    "model = model.clone()\n",
    "x_train, y_train, x_val, y_val, x_test, y_test = split_fetcher.datapoints\n",
    "\n",
    "model.fit(\n",
    "    x_train,\n",
    "    y_train,\n",
    ")\n",
    "\n",
    "metric = Metrics.ACCURACY\n",
    "\n",
    "perf = metric(y_test, model.predict(x_test))\n",
    "print(f\"Base line model accuracy= {perf=}\")"
   ]
  },
  {
   "cell_type": "code",
   "execution_count": 59,
   "metadata": {},
   "outputs": [],
   "source": [
    "from opendataval.dataval import DataOob, LavaEvaluator"
   ]
  },
  {
   "cell_type": "code",
   "execution_count": 60,
   "metadata": {},
   "outputs": [
    {
     "name": "stderr",
     "output_type": "stream",
     "text": [
      "                                                                                   \r"
     ]
    }
   ],
   "source": [
    "dataval_lava = LavaEvaluator().train(\n",
    "    fetcher=split_fetcher, pred_model=model, metric=metric\n",
    ")\n",
    "\n",
    "# data_values = dataval_oob.data_values  # Cached values\n",
    "# data_values = dataval_oob.evaluate_data_values()  # Recomputed values"
   ]
  },
  {
   "cell_type": "code",
   "execution_count": null,
   "metadata": {},
   "outputs": [],
   "source": []
  },
  {
   "cell_type": "code",
   "execution_count": 63,
   "metadata": {},
   "outputs": [],
   "source": [
    "# took 10 min to get through 12/1000 runs so very slow, roughly predicted 15.5 hours to run\n",
    "\n",
    "# dataval_oob = DataOob(num_models=1000).train(\n",
    "#     fetcher=split_fetcher, pred_model=model, metric=metric\n",
    "# )"
   ]
  },
  {
   "cell_type": "code",
   "execution_count": 65,
   "metadata": {},
   "outputs": [],
   "source": [
    "data_values = dataval_lava.evaluate_data_values()"
   ]
  },
  {
   "cell_type": "code",
   "execution_count": 87,
   "metadata": {},
   "outputs": [
    {
     "name": "stderr",
     "output_type": "stream",
     "text": [
      "/var/folders/zg/pzhsf9sj45qcbpm46g7m_gf80000gp/T/ipykernel_85902/1396603433.py:3: SettingWithCopyWarning: \n",
      "A value is trying to be set on a copy of a slice from a DataFrame.\n",
      "Try using .loc[row_indexer,col_indexer] = value instead\n",
      "\n",
      "See the caveats in the documentation: https://pandas.pydata.org/pandas-docs/stable/user_guide/indexing.html#returning-a-view-versus-a-copy\n",
      "  train_data[\"lava_value\"] = data_values\n"
     ]
    }
   ],
   "source": [
    "train_data = bbc_raw.iloc[split_fetcher.train_indices]\n",
    "train_data[\"lava_value\"] = data_values"
   ]
  },
  {
   "cell_type": "code",
   "execution_count": 92,
   "metadata": {},
   "outputs": [],
   "source": [
    "train_data.to_parquet(\"bbc_with_lava.parquet\")"
   ]
  },
  {
   "cell_type": "code",
   "execution_count": 93,
   "metadata": {},
   "outputs": [],
   "source": [
    "tdp = pd.read_parquet(\"bbc_with_lava.parquet\")"
   ]
  },
  {
   "cell_type": "code",
   "execution_count": 95,
   "metadata": {},
   "outputs": [
    {
     "data": {
      "text/html": [
       "<div>\n",
       "<style scoped>\n",
       "    .dataframe tbody tr th:only-of-type {\n",
       "        vertical-align: middle;\n",
       "    }\n",
       "\n",
       "    .dataframe tbody tr th {\n",
       "        vertical-align: top;\n",
       "    }\n",
       "\n",
       "    .dataframe thead th {\n",
       "        text-align: right;\n",
       "    }\n",
       "</style>\n",
       "<table border=\"1\" class=\"dataframe\">\n",
       "  <thead>\n",
       "    <tr style=\"text-align: right;\">\n",
       "      <th></th>\n",
       "      <th>category</th>\n",
       "      <th>text</th>\n",
       "      <th>lava_value</th>\n",
       "    </tr>\n",
       "  </thead>\n",
       "  <tbody>\n",
       "    <tr>\n",
       "      <th>960</th>\n",
       "      <td>business</td>\n",
       "      <td>fed warns of more us rate rises the us looks s...</td>\n",
       "      <td>0.120329</td>\n",
       "    </tr>\n",
       "    <tr>\n",
       "      <th>2062</th>\n",
       "      <td>politics</td>\n",
       "      <td>will the budget bring out smiling voters  as t...</td>\n",
       "      <td>3.061174</td>\n",
       "    </tr>\n",
       "    <tr>\n",
       "      <th>1186</th>\n",
       "      <td>sport</td>\n",
       "      <td>santini resigns as spurs manager tottenham man...</td>\n",
       "      <td>0.803217</td>\n",
       "    </tr>\n",
       "    <tr>\n",
       "      <th>1548</th>\n",
       "      <td>entertainment</td>\n",
       "      <td>usher leads soul train shortlist chart-topping...</td>\n",
       "      <td>-0.150380</td>\n",
       "    </tr>\n",
       "    <tr>\n",
       "      <th>944</th>\n",
       "      <td>sport</td>\n",
       "      <td>mourinho expects fight to finish chelsea manag...</td>\n",
       "      <td>0.802230</td>\n",
       "    </tr>\n",
       "    <tr>\n",
       "      <th>...</th>\n",
       "      <td>...</td>\n",
       "      <td>...</td>\n",
       "      <td>...</td>\n",
       "    </tr>\n",
       "    <tr>\n",
       "      <th>1711</th>\n",
       "      <td>sport</td>\n",
       "      <td>souness backs smith for scotland graeme sounes...</td>\n",
       "      <td>1.437672</td>\n",
       "    </tr>\n",
       "    <tr>\n",
       "      <th>1749</th>\n",
       "      <td>sport</td>\n",
       "      <td>clijsters hope on aussie open kim clijsters ha...</td>\n",
       "      <td>-0.156982</td>\n",
       "    </tr>\n",
       "    <tr>\n",
       "      <th>508</th>\n",
       "      <td>tech</td>\n",
       "      <td>when invention turns to innovation it is unlik...</td>\n",
       "      <td>0.116371</td>\n",
       "    </tr>\n",
       "    <tr>\n",
       "      <th>1317</th>\n",
       "      <td>politics</td>\n",
       "      <td>labour s four little words labour has unveiled...</td>\n",
       "      <td>-0.263041</td>\n",
       "    </tr>\n",
       "    <tr>\n",
       "      <th>2113</th>\n",
       "      <td>tech</td>\n",
       "      <td>gadget show heralds mp3 christmas partners of ...</td>\n",
       "      <td>-1.877822</td>\n",
       "    </tr>\n",
       "  </tbody>\n",
       "</table>\n",
       "<p>1558 rows × 3 columns</p>\n",
       "</div>"
      ],
      "text/plain": [
       "           category                                               text  \\\n",
       "960        business  fed warns of more us rate rises the us looks s...   \n",
       "2062       politics  will the budget bring out smiling voters  as t...   \n",
       "1186          sport  santini resigns as spurs manager tottenham man...   \n",
       "1548  entertainment  usher leads soul train shortlist chart-topping...   \n",
       "944           sport  mourinho expects fight to finish chelsea manag...   \n",
       "...             ...                                                ...   \n",
       "1711          sport  souness backs smith for scotland graeme sounes...   \n",
       "1749          sport  clijsters hope on aussie open kim clijsters ha...   \n",
       "508            tech  when invention turns to innovation it is unlik...   \n",
       "1317       politics  labour s four little words labour has unveiled...   \n",
       "2113           tech  gadget show heralds mp3 christmas partners of ...   \n",
       "\n",
       "      lava_value  \n",
       "960     0.120329  \n",
       "2062    3.061174  \n",
       "1186    0.803217  \n",
       "1548   -0.150380  \n",
       "944     0.802230  \n",
       "...          ...  \n",
       "1711    1.437672  \n",
       "1749   -0.156982  \n",
       "508     0.116371  \n",
       "1317   -0.263041  \n",
       "2113   -1.877822  \n",
       "\n",
       "[1558 rows x 3 columns]"
      ]
     },
     "execution_count": 95,
     "metadata": {},
     "output_type": "execute_result"
    }
   ],
   "source": [
    "train_data"
   ]
  },
  {
   "cell_type": "code",
   "execution_count": 96,
   "metadata": {},
   "outputs": [
    {
     "data": {
      "text/html": [
       "<div>\n",
       "<style scoped>\n",
       "    .dataframe tbody tr th:only-of-type {\n",
       "        vertical-align: middle;\n",
       "    }\n",
       "\n",
       "    .dataframe tbody tr th {\n",
       "        vertical-align: top;\n",
       "    }\n",
       "\n",
       "    .dataframe thead th {\n",
       "        text-align: right;\n",
       "    }\n",
       "</style>\n",
       "<table border=\"1\" class=\"dataframe\">\n",
       "  <thead>\n",
       "    <tr style=\"text-align: right;\">\n",
       "      <th></th>\n",
       "      <th>category</th>\n",
       "      <th>text</th>\n",
       "      <th>lava_value</th>\n",
       "    </tr>\n",
       "  </thead>\n",
       "  <tbody>\n",
       "    <tr>\n",
       "      <th>960</th>\n",
       "      <td>business</td>\n",
       "      <td>fed warns of more us rate rises the us looks s...</td>\n",
       "      <td>0.120329</td>\n",
       "    </tr>\n",
       "    <tr>\n",
       "      <th>2062</th>\n",
       "      <td>politics</td>\n",
       "      <td>will the budget bring out smiling voters  as t...</td>\n",
       "      <td>3.061174</td>\n",
       "    </tr>\n",
       "    <tr>\n",
       "      <th>1186</th>\n",
       "      <td>sport</td>\n",
       "      <td>santini resigns as spurs manager tottenham man...</td>\n",
       "      <td>0.803217</td>\n",
       "    </tr>\n",
       "    <tr>\n",
       "      <th>1548</th>\n",
       "      <td>entertainment</td>\n",
       "      <td>usher leads soul train shortlist chart-topping...</td>\n",
       "      <td>-0.150380</td>\n",
       "    </tr>\n",
       "    <tr>\n",
       "      <th>944</th>\n",
       "      <td>sport</td>\n",
       "      <td>mourinho expects fight to finish chelsea manag...</td>\n",
       "      <td>0.802230</td>\n",
       "    </tr>\n",
       "    <tr>\n",
       "      <th>...</th>\n",
       "      <td>...</td>\n",
       "      <td>...</td>\n",
       "      <td>...</td>\n",
       "    </tr>\n",
       "    <tr>\n",
       "      <th>1711</th>\n",
       "      <td>sport</td>\n",
       "      <td>souness backs smith for scotland graeme sounes...</td>\n",
       "      <td>1.437672</td>\n",
       "    </tr>\n",
       "    <tr>\n",
       "      <th>1749</th>\n",
       "      <td>sport</td>\n",
       "      <td>clijsters hope on aussie open kim clijsters ha...</td>\n",
       "      <td>-0.156982</td>\n",
       "    </tr>\n",
       "    <tr>\n",
       "      <th>508</th>\n",
       "      <td>tech</td>\n",
       "      <td>when invention turns to innovation it is unlik...</td>\n",
       "      <td>0.116371</td>\n",
       "    </tr>\n",
       "    <tr>\n",
       "      <th>1317</th>\n",
       "      <td>politics</td>\n",
       "      <td>labour s four little words labour has unveiled...</td>\n",
       "      <td>-0.263041</td>\n",
       "    </tr>\n",
       "    <tr>\n",
       "      <th>2113</th>\n",
       "      <td>tech</td>\n",
       "      <td>gadget show heralds mp3 christmas partners of ...</td>\n",
       "      <td>-1.877822</td>\n",
       "    </tr>\n",
       "  </tbody>\n",
       "</table>\n",
       "<p>1558 rows × 3 columns</p>\n",
       "</div>"
      ],
      "text/plain": [
       "           category                                               text  \\\n",
       "960        business  fed warns of more us rate rises the us looks s...   \n",
       "2062       politics  will the budget bring out smiling voters  as t...   \n",
       "1186          sport  santini resigns as spurs manager tottenham man...   \n",
       "1548  entertainment  usher leads soul train shortlist chart-topping...   \n",
       "944           sport  mourinho expects fight to finish chelsea manag...   \n",
       "...             ...                                                ...   \n",
       "1711          sport  souness backs smith for scotland graeme sounes...   \n",
       "1749          sport  clijsters hope on aussie open kim clijsters ha...   \n",
       "508            tech  when invention turns to innovation it is unlik...   \n",
       "1317       politics  labour s four little words labour has unveiled...   \n",
       "2113           tech  gadget show heralds mp3 christmas partners of ...   \n",
       "\n",
       "      lava_value  \n",
       "960     0.120329  \n",
       "2062    3.061174  \n",
       "1186    0.803217  \n",
       "1548   -0.150380  \n",
       "944     0.802230  \n",
       "...          ...  \n",
       "1711    1.437672  \n",
       "1749   -0.156982  \n",
       "508     0.116371  \n",
       "1317   -0.263041  \n",
       "2113   -1.877822  \n",
       "\n",
       "[1558 rows x 3 columns]"
      ]
     },
     "execution_count": 96,
     "metadata": {},
     "output_type": "execute_result"
    }
   ],
   "source": [
    "train_data"
   ]
  },
  {
   "cell_type": "code",
   "execution_count": null,
   "metadata": {},
   "outputs": [],
   "source": []
  }
 ],
 "metadata": {
  "kernelspec": {
   "display_name": "data-valuation",
   "language": "python",
   "name": "python3"
  },
  "language_info": {
   "codemirror_mode": {
    "name": "ipython",
    "version": 3
   },
   "file_extension": ".py",
   "mimetype": "text/x-python",
   "name": "python",
   "nbconvert_exporter": "python",
   "pygments_lexer": "ipython3",
   "version": "3.10.13"
  }
 },
 "nbformat": 4,
 "nbformat_minor": 2
}
