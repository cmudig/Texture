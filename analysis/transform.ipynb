{
 "cells": [
  {
   "cell_type": "code",
   "execution_count": 16,
   "metadata": {},
   "outputs": [
    {
     "name": "stdout",
     "output_type": "stream",
     "text": [
      "####### dolly\n",
      "extracting metadata for  instruction\n"
     ]
    },
    {
     "name": "stderr",
     "output_type": "stream",
     "text": [
      "/Users/wepperso/workspaces/Research/Brainstorm/textEdit/textclean/TextCleaner.py:75: FutureWarning: Returning a DataFrame from Series.apply when the supplied function returns a Series is deprecated and will be removed in a future version.\n",
      "  m = col.apply(get_word_data)\n"
     ]
    },
    {
     "name": "stdout",
     "output_type": "stream",
     "text": [
      "extracting metadata for  context\n"
     ]
    },
    {
     "name": "stderr",
     "output_type": "stream",
     "text": [
      "/Users/wepperso/workspaces/Research/Brainstorm/textEdit/textclean/TextCleaner.py:75: FutureWarning: Returning a DataFrame from Series.apply when the supplied function returns a Series is deprecated and will be removed in a future version.\n",
      "  m = col.apply(get_word_data)\n"
     ]
    },
    {
     "name": "stdout",
     "output_type": "stream",
     "text": [
      "extracting metadata for  response\n"
     ]
    },
    {
     "name": "stderr",
     "output_type": "stream",
     "text": [
      "/Users/wepperso/workspaces/Research/Brainstorm/textEdit/textclean/TextCleaner.py:75: FutureWarning: Returning a DataFrame from Series.apply when the supplied function returns a Series is deprecated and will be removed in a future version.\n",
      "  m = col.apply(get_word_data)\n"
     ]
    },
    {
     "name": "stdout",
     "output_type": "stream",
     "text": [
      "extracting metadata for  category\n"
     ]
    },
    {
     "name": "stderr",
     "output_type": "stream",
     "text": [
      "/Users/wepperso/workspaces/Research/Brainstorm/textEdit/textclean/TextCleaner.py:75: FutureWarning: Returning a DataFrame from Series.apply when the supplied function returns a Series is deprecated and will be removed in a future version.\n",
      "  m = col.apply(get_word_data)\n"
     ]
    },
    {
     "name": "stdout",
     "output_type": "stream",
     "text": [
      "####### opus\n",
      "extracting metadata for  en\n"
     ]
    },
    {
     "name": "stderr",
     "output_type": "stream",
     "text": [
      "/Users/wepperso/workspaces/Research/Brainstorm/textEdit/textclean/TextCleaner.py:75: FutureWarning: Returning a DataFrame from Series.apply when the supplied function returns a Series is deprecated and will be removed in a future version.\n",
      "  m = col.apply(get_word_data)\n"
     ]
    },
    {
     "name": "stdout",
     "output_type": "stream",
     "text": [
      "extracting metadata for  es\n"
     ]
    },
    {
     "name": "stderr",
     "output_type": "stream",
     "text": [
      "/Users/wepperso/workspaces/Research/Brainstorm/textEdit/textclean/TextCleaner.py:75: FutureWarning: Returning a DataFrame from Series.apply when the supplied function returns a Series is deprecated and will be removed in a future version.\n",
      "  m = col.apply(get_word_data)\n"
     ]
    },
    {
     "name": "stdout",
     "output_type": "stream",
     "text": [
      "####### squad\n",
      "extracting metadata for  title\n"
     ]
    },
    {
     "name": "stderr",
     "output_type": "stream",
     "text": [
      "/Users/wepperso/workspaces/Research/Brainstorm/textEdit/textclean/TextCleaner.py:75: FutureWarning: Returning a DataFrame from Series.apply when the supplied function returns a Series is deprecated and will be removed in a future version.\n",
      "  m = col.apply(get_word_data)\n"
     ]
    },
    {
     "name": "stdout",
     "output_type": "stream",
     "text": [
      "extracting metadata for  context\n"
     ]
    },
    {
     "name": "stderr",
     "output_type": "stream",
     "text": [
      "/Users/wepperso/workspaces/Research/Brainstorm/textEdit/textclean/TextCleaner.py:75: FutureWarning: Returning a DataFrame from Series.apply when the supplied function returns a Series is deprecated and will be removed in a future version.\n",
      "  m = col.apply(get_word_data)\n"
     ]
    },
    {
     "name": "stdout",
     "output_type": "stream",
     "text": [
      "extracting metadata for  question\n"
     ]
    },
    {
     "name": "stderr",
     "output_type": "stream",
     "text": [
      "/Users/wepperso/workspaces/Research/Brainstorm/textEdit/textclean/TextCleaner.py:75: FutureWarning: Returning a DataFrame from Series.apply when the supplied function returns a Series is deprecated and will be removed in a future version.\n",
      "  m = col.apply(get_word_data)\n"
     ]
    },
    {
     "name": "stdout",
     "output_type": "stream",
     "text": [
      "extracting metadata for  answers[0]\n"
     ]
    },
    {
     "name": "stderr",
     "output_type": "stream",
     "text": [
      "/Users/wepperso/workspaces/Research/Brainstorm/textEdit/textclean/TextCleaner.py:75: FutureWarning: Returning a DataFrame from Series.apply when the supplied function returns a Series is deprecated and will be removed in a future version.\n",
      "  m = col.apply(get_word_data)\n"
     ]
    }
   ],
   "source": [
    "import textclean\n",
    "import pandas as pd\n",
    "\n",
    "df_dolly = pd.read_csv(\"../datasets/raw/dolly15k.csv\")\n",
    "df_opus = pd.read_csv(\"../datasets/raw/opus100-en-es.csv\")\n",
    "df_squad = pd.read_csv(\"../datasets/raw/squad_validation.csv\")\n",
    "\n",
    "all_dfs = [(df_dolly, \"dolly\"), (df_opus, \"opus\"), (df_squad, \"squad\")]\n",
    "results = {}\n",
    "\n",
    "for d, name in all_dfs:\n",
    "    print(\"#######\", name)\n",
    "    m = textclean.TextCleaner(d)\n",
    "    results[name] = m.process()"
   ]
  },
  {
   "cell_type": "code",
   "execution_count": 12,
   "metadata": {},
   "outputs": [],
   "source": [
    "import pandas as pd\n",
    "\n",
    "df_dolly = pd.read_csv(\"../datasets/raw/dolly15k.csv\")\n",
    "df_opus = pd.read_csv(\"../datasets/raw/opus100-en-es.csv\")\n",
    "df_squad = pd.read_csv(\"../datasets/raw/squad_validation.csv\")"
   ]
  },
  {
   "cell_type": "code",
   "execution_count": 18,
   "metadata": {},
   "outputs": [
    {
     "data": {
      "text/plain": [
       "dict_keys(['dolly', 'opus', 'squad'])"
      ]
     },
     "execution_count": 18,
     "metadata": {},
     "output_type": "execute_result"
    }
   ],
   "source": [
    "results.keys()"
   ]
  },
  {
   "cell_type": "code",
   "execution_count": 19,
   "metadata": {},
   "outputs": [],
   "source": [
    "processed_dolly = results[\"dolly\"]\n",
    "procesed_opus = results[\"opus\"]\n",
    "processed_squad = results[\"squad\"]"
   ]
  },
  {
   "cell_type": "code",
   "execution_count": 21,
   "metadata": {},
   "outputs": [],
   "source": [
    "processed_dolly.to_csv(\"../datasets/processed/dolly15k.csv\", index=False)\n",
    "procesed_opus.to_csv(\"../datasets/processed/opus100-en-es.csv\", index=False)\n",
    "processed_squad.to_csv(\"../datasets/processed/squad_validation.csv\", index=False)"
   ]
  },
  {
   "cell_type": "code",
   "execution_count": null,
   "metadata": {},
   "outputs": [],
   "source": []
  }
 ],
 "metadata": {
  "kernelspec": {
   "display_name": "text-clean",
   "language": "python",
   "name": "python3"
  },
  "language_info": {
   "codemirror_mode": {
    "name": "ipython",
    "version": 3
   },
   "file_extension": ".py",
   "mimetype": "text/x-python",
   "name": "python",
   "nbconvert_exporter": "python",
   "pygments_lexer": "ipython3",
   "version": "3.11.5"
  },
  "orig_nbformat": 4
 },
 "nbformat": 4,
 "nbformat_minor": 2
}
