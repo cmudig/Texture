{
 "cells": [
  {
   "cell_type": "code",
   "execution_count": 4,
   "metadata": {},
   "outputs": [],
   "source": [
    "import pandas as pd\n",
    "\n",
    "df_dolly = pd.read_csv(\"../datasets/raw/dolly15k.csv\")\n",
    "df_opus = pd.read_csv(\"../datasets/raw/opus100-en-es.csv\")\n",
    "df_squad = pd.read_csv(\"../datasets/raw/squad_validation.csv\")"
   ]
  },
  {
   "cell_type": "code",
   "execution_count": 5,
   "metadata": {},
   "outputs": [],
   "source": [
    "import textclean"
   ]
  },
  {
   "cell_type": "code",
   "execution_count": 6,
   "metadata": {},
   "outputs": [
    {
     "name": "stdout",
     "output_type": "stream",
     "text": [
      "####### dolly\n",
      "extracting metadata for instruction\n",
      "calculating embeddings for instruction with all-mpnet-base-v2\n",
      "Created embedding of shape (15011, 768) with all-mpnet-base-v2\n",
      "calculating embeddings for instruction with all-MiniLM-L6-v2\n",
      "Created embedding of shape (15011, 384) with all-MiniLM-L6-v2\n",
      "calculating embeddings for instruction with distiluse-base-multilingual-cased-v1\n",
      "Created embedding of shape (15011, 512) with distiluse-base-multilingual-cased-v1\n",
      "extracting metadata for context\n",
      "calculating embeddings for context with all-mpnet-base-v2\n",
      "Created embedding of shape (4466, 768) with all-mpnet-base-v2\n",
      "calculating embeddings for context with all-MiniLM-L6-v2\n",
      "Created embedding of shape (4466, 384) with all-MiniLM-L6-v2\n",
      "calculating embeddings for context with distiluse-base-multilingual-cased-v1\n",
      "Created embedding of shape (4466, 512) with distiluse-base-multilingual-cased-v1\n",
      "extracting metadata for response\n",
      "calculating embeddings for response with all-mpnet-base-v2\n",
      "Created embedding of shape (15011, 768) with all-mpnet-base-v2\n",
      "calculating embeddings for response with all-MiniLM-L6-v2\n",
      "Created embedding of shape (15011, 384) with all-MiniLM-L6-v2\n",
      "calculating embeddings for response with distiluse-base-multilingual-cased-v1\n",
      "Created embedding of shape (15011, 512) with distiluse-base-multilingual-cased-v1\n",
      "calculating embeddings for joint with all-mpnet-base-v2\n",
      "Created embedding of shape (15011, 768) with all-mpnet-base-v2\n",
      "calculating embeddings for joint with all-MiniLM-L6-v2\n",
      "Created embedding of shape (15011, 384) with all-MiniLM-L6-v2\n",
      "calculating embeddings for joint with distiluse-base-multilingual-cased-v1\n",
      "Created embedding of shape (15011, 512) with distiluse-base-multilingual-cased-v1\n",
      "####### squad\n",
      "extracting metadata for context\n",
      "calculating embeddings for context with all-mpnet-base-v2\n",
      "Created embedding of shape (11873, 768) with all-mpnet-base-v2\n",
      "calculating embeddings for context with all-MiniLM-L6-v2\n",
      "Created embedding of shape (11873, 384) with all-MiniLM-L6-v2\n",
      "calculating embeddings for context with distiluse-base-multilingual-cased-v1\n",
      "Created embedding of shape (11873, 512) with distiluse-base-multilingual-cased-v1\n",
      "extracting metadata for question\n",
      "calculating embeddings for question with all-mpnet-base-v2\n",
      "Created embedding of shape (11873, 768) with all-mpnet-base-v2\n",
      "calculating embeddings for question with all-MiniLM-L6-v2\n",
      "Created embedding of shape (11873, 384) with all-MiniLM-L6-v2\n",
      "calculating embeddings for question with distiluse-base-multilingual-cased-v1\n",
      "Created embedding of shape (11873, 512) with distiluse-base-multilingual-cased-v1\n",
      "extracting metadata for answers[0]\n",
      "calculating embeddings for answers[0] with all-mpnet-base-v2\n",
      "Created embedding of shape (5927, 768) with all-mpnet-base-v2\n",
      "calculating embeddings for answers[0] with all-MiniLM-L6-v2\n",
      "Created embedding of shape (5927, 384) with all-MiniLM-L6-v2\n",
      "calculating embeddings for answers[0] with distiluse-base-multilingual-cased-v1\n",
      "Created embedding of shape (5927, 512) with distiluse-base-multilingual-cased-v1\n",
      "calculating embeddings for joint with all-mpnet-base-v2\n",
      "Created embedding of shape (11873, 768) with all-mpnet-base-v2\n",
      "calculating embeddings for joint with all-MiniLM-L6-v2\n",
      "Created embedding of shape (11873, 384) with all-MiniLM-L6-v2\n",
      "calculating embeddings for joint with distiluse-base-multilingual-cased-v1\n",
      "Created embedding of shape (11873, 512) with distiluse-base-multilingual-cased-v1\n"
     ]
    }
   ],
   "source": [
    "data_configs = [\n",
    "    # took 4 min 2.5 sec to run\n",
    "    {\n",
    "        \"data\": df_opus,\n",
    "        \"name\": \"opus\",\n",
    "        \"text_columns\": [\"en\", \"es\"],\n",
    "    },\n",
    "    # below together took 177 min!\n",
    "    {\n",
    "        \"data\": df_dolly,\n",
    "        \"name\": \"dolly\",\n",
    "        \"text_columns\": [\"instruction\", \"context\", \"response\"],\n",
    "    },\n",
    "    {\n",
    "        \"data\": df_squad,\n",
    "        \"name\": \"squad\",\n",
    "        \"text_columns\": [\"context\", \"question\", \"answers[0]\"],\n",
    "    },\n",
    "]\n",
    "\n",
    "model_names = [\n",
    "    \"all-mpnet-base-v2\",  # best performing on leaderboard\n",
    "    \"all-MiniLM-L6-v2\",  # smaller and faster\n",
    "    \"distiluse-base-multilingual-cased-v1\",  # for multilingual use\n",
    "]\n",
    "\n",
    "results = {}\n",
    "\n",
    "for c in data_configs:\n",
    "    print(\"#######\", c[\"name\"])\n",
    "    m = textclean.TextCleaner(c[\"data\"], c[\"text_columns\"], model_names)\n",
    "    data_res = m.process()\n",
    "    results[c[\"name\"]] = data_res"
   ]
  },
  {
   "cell_type": "code",
   "execution_count": 7,
   "metadata": {},
   "outputs": [],
   "source": [
    "procesed_opus = results[\"opus\"]\n",
    "processed_dolly = results[\"dolly\"]\n",
    "processed_squad = results[\"squad\"]"
   ]
  },
  {
   "cell_type": "code",
   "execution_count": 8,
   "metadata": {},
   "outputs": [],
   "source": [
    "procesed_opus.to_parquet(\"../datasets/processed/opus100-en-es.parquet\", index=False)\n",
    "processed_dolly.to_parquet(\"../datasets/processed/dolly15k.parquet\", index=False)\n",
    "processed_squad.to_parquet(\n",
    "    \"../datasets/processed/squad_validation.parquet\", index=False\n",
    ")"
   ]
  },
  {
   "cell_type": "code",
   "execution_count": 19,
   "metadata": {},
   "outputs": [
    {
     "name": "stdout",
     "output_type": "stream",
     "text": [
      "title\n",
      "context\n",
      "question\n",
      "answers[0]\n",
      "context_text_length\n",
      "context_num_words\n",
      "context_max_word_length\n",
      "context_avg_word_length\n",
      "context_perc_special_chars\n",
      "context_dist_from_mean_embed_all-mpnet-base-v2\n",
      "context_outlier_score_ECOD_all-mpnet-base-v2\n",
      "context_outlier_score_IForest_all-mpnet-base-v2\n",
      "context_dist_from_mean_embed_all-MiniLM-L6-v2\n",
      "context_outlier_score_ECOD_all-MiniLM-L6-v2\n",
      "context_outlier_score_IForest_all-MiniLM-L6-v2\n",
      "context_dist_from_mean_embed_distiluse-base-multilingual-cased-v1\n",
      "context_outlier_score_ECOD_distiluse-base-multilingual-cased-v1\n",
      "context_outlier_score_IForest_distiluse-base-multilingual-cased-v1\n",
      "question_text_length\n",
      "question_num_words\n",
      "question_max_word_length\n",
      "question_avg_word_length\n",
      "question_perc_special_chars\n",
      "question_dist_from_mean_embed_all-mpnet-base-v2\n",
      "question_outlier_score_ECOD_all-mpnet-base-v2\n",
      "question_outlier_score_IForest_all-mpnet-base-v2\n",
      "question_dist_from_mean_embed_all-MiniLM-L6-v2\n",
      "question_outlier_score_ECOD_all-MiniLM-L6-v2\n",
      "question_outlier_score_IForest_all-MiniLM-L6-v2\n",
      "question_dist_from_mean_embed_distiluse-base-multilingual-cased-v1\n",
      "question_outlier_score_ECOD_distiluse-base-multilingual-cased-v1\n",
      "question_outlier_score_IForest_distiluse-base-multilingual-cased-v1\n",
      "answers[0]_text_length\n",
      "answers[0]_num_words\n",
      "answers[0]_max_word_length\n",
      "answers[0]_avg_word_length\n",
      "answers[0]_perc_special_chars\n",
      "answers[0]_dist_from_mean_embed_all-mpnet-base-v2\n",
      "answers[0]_outlier_score_ECOD_all-mpnet-base-v2\n",
      "answers[0]_outlier_score_IForest_all-mpnet-base-v2\n",
      "answers[0]_dist_from_mean_embed_all-MiniLM-L6-v2\n",
      "answers[0]_outlier_score_ECOD_all-MiniLM-L6-v2\n",
      "answers[0]_outlier_score_IForest_all-MiniLM-L6-v2\n",
      "answers[0]_dist_from_mean_embed_distiluse-base-multilingual-cased-v1\n",
      "answers[0]_outlier_score_ECOD_distiluse-base-multilingual-cased-v1\n",
      "answers[0]_outlier_score_IForest_distiluse-base-multilingual-cased-v1\n",
      "joint\n",
      "joint_dist_from_mean_embed_all-mpnet-base-v2\n",
      "joint_outlier_score_ECOD_all-mpnet-base-v2\n",
      "joint_outlier_score_IForest_all-mpnet-base-v2\n",
      "joint_dist_from_mean_embed_all-MiniLM-L6-v2\n",
      "joint_outlier_score_ECOD_all-MiniLM-L6-v2\n",
      "joint_outlier_score_IForest_all-MiniLM-L6-v2\n",
      "joint_dist_from_mean_embed_distiluse-base-multilingual-cased-v1\n",
      "joint_outlier_score_ECOD_distiluse-base-multilingual-cased-v1\n",
      "joint_outlier_score_IForest_distiluse-base-multilingual-cased-v1\n"
     ]
    }
   ],
   "source": [
    "for c in processed_squad.columns:\n",
    "    print(c)"
   ]
  },
  {
   "cell_type": "code",
   "execution_count": null,
   "metadata": {},
   "outputs": [],
   "source": []
  }
 ],
 "metadata": {
  "kernelspec": {
   "display_name": "text-clean",
   "language": "python",
   "name": "python3"
  },
  "language_info": {
   "codemirror_mode": {
    "name": "ipython",
    "version": 3
   },
   "file_extension": ".py",
   "mimetype": "text/x-python",
   "name": "python",
   "nbconvert_exporter": "python",
   "pygments_lexer": "ipython3",
   "version": "3.10.13"
  },
  "orig_nbformat": 4
 },
 "nbformat": 4,
 "nbformat_minor": 2
}
