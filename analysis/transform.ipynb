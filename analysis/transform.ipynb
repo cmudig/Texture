{
 "cells": [
  {
   "cell_type": "code",
   "execution_count": 19,
   "metadata": {},
   "outputs": [],
   "source": [
    "import textclean\n",
    "import pandas as pd\n",
    "\n",
    "df_dolly = pd.read_csv(\"../datasets/raw/dolly15k.csv\")\n",
    "df_opus = pd.read_csv(\"../datasets/raw/opus100-en-es.csv\")\n",
    "df_squad = pd.read_csv(\"../datasets/raw/squad_validation.csv\")\n",
    "\n",
    "all_dfs = [(df_dolly, \"dolly\"), (df_opus, \"opus\"), (df_squad, \"squad\")]\n",
    "results = {}\n",
    "\n",
    "for d, name in all_dfs:\n",
    "    print(\"#######\", name)\n",
    "    m = textclean.TextCleaner(d)\n",
    "    results[name] = m.process()"
   ]
  },
  {
   "cell_type": "code",
   "execution_count": null,
   "metadata": {},
   "outputs": [],
   "source": []
  }
 ],
 "metadata": {
  "kernelspec": {
   "display_name": "text-clean",
   "language": "python",
   "name": "python3"
  },
  "language_info": {
   "codemirror_mode": {
    "name": "ipython",
    "version": 3
   },
   "file_extension": ".py",
   "mimetype": "text/x-python",
   "name": "python",
   "nbconvert_exporter": "python",
   "pygments_lexer": "ipython3",
   "version": "3.11.5"
  },
  "orig_nbformat": 4
 },
 "nbformat": 4,
 "nbformat_minor": 2
}
