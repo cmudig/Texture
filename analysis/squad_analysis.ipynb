{
 "cells": [
  {
   "cell_type": "markdown",
   "metadata": {},
   "source": [
    "# Squad dataset analysis\n",
    "\n",
    "Question answering benchmark\n"
   ]
  },
  {
   "cell_type": "code",
   "execution_count": 1,
   "metadata": {},
   "outputs": [
    {
     "name": "stderr",
     "output_type": "stream",
     "text": [
      "/Users/wepperso/miniconda3/envs/text-clean/lib/python3.11/site-packages/tqdm/auto.py:21: TqdmWarning: IProgress not found. Please update jupyter and ipywidgets. See https://ipywidgets.readthedocs.io/en/stable/user_install.html\n",
      "  from .autonotebook import tqdm as notebook_tqdm\n",
      "Downloading builder script: 100%|██████████| 5.28k/5.28k [00:00<00:00, 6.04MB/s]\n",
      "Downloading metadata: 100%|██████████| 2.40k/2.40k [00:00<00:00, 6.48MB/s]\n",
      "Downloading readme: 100%|██████████| 8.02k/8.02k [00:00<00:00, 10.4MB/s]\n",
      "Downloading data: 42.1MB [00:00, 72.4MB/s]/2 [00:00<?, ?it/s]\n",
      "Downloading data: 4.37MB [00:00, 52.6MB/s]                  1.75s/it]\n",
      "Downloading data files: 100%|██████████| 2/2 [00:02<00:00,  1.05s/it]\n",
      "Extracting data files: 100%|██████████| 2/2 [00:00<00:00, 872.99it/s]\n",
      "Generating train split: 100%|██████████| 130319/130319 [00:05<00:00, 22118.44 examples/s]\n",
      "Generating validation split: 100%|██████████| 11873/11873 [00:00<00:00, 22268.37 examples/s]\n"
     ]
    }
   ],
   "source": [
    "from datasets import load_dataset\n",
    "\n",
    "dataset = load_dataset(\"squad_v2\")"
   ]
  },
  {
   "cell_type": "code",
   "execution_count": 5,
   "metadata": {},
   "outputs": [],
   "source": [
    "df = dataset[\"validation\"].to_pandas()"
   ]
  },
  {
   "cell_type": "code",
   "execution_count": null,
   "metadata": {},
   "outputs": [],
   "source": []
  }
 ],
 "metadata": {
  "kernelspec": {
   "display_name": "text-clean",
   "language": "python",
   "name": "python3"
  },
  "language_info": {
   "codemirror_mode": {
    "name": "ipython",
    "version": 3
   },
   "file_extension": ".py",
   "mimetype": "text/x-python",
   "name": "python",
   "nbconvert_exporter": "python",
   "pygments_lexer": "ipython3",
   "version": "3.11.5"
  },
  "orig_nbformat": 4
 },
 "nbformat": 4,
 "nbformat_minor": 2
}
