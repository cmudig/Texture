{
 "cells": [
  {
   "cell_type": "markdown",
   "metadata": {},
   "source": [
    "# Data explore\n"
   ]
  },
  {
   "cell_type": "code",
   "execution_count": 1,
   "metadata": {},
   "outputs": [],
   "source": [
    "import pandas as pd"
   ]
  },
  {
   "cell_type": "markdown",
   "metadata": {},
   "source": [
    "## Mimic\n"
   ]
  },
  {
   "cell_type": "code",
   "execution_count": 2,
   "metadata": {},
   "outputs": [],
   "source": [
    "filenames = [\n",
    "    \"ADMISSIONS.csv\",\n",
    "    \"CALLOUT.csv\",\n",
    "    \"CAREGIVERS.csv\",\n",
    "    \"CHARTEVENTS.csv\",\n",
    "    \"CPTEVENTS.csv\",\n",
    "    \"DATETIMEEVENTS.csv\",\n",
    "    \"D_CPT.csv\",\n",
    "    \"DIAGNOSES_ICD.csv\",\n",
    "    \"D_ICD_DIAGNOSES.csv\",\n",
    "    \"D_ICD_PROCEDURES.csv\",\n",
    "    \"D_ITEMS.csv\",\n",
    "    \"D_LABITEMS.csv\",\n",
    "    \"DRGCODES.csv\",\n",
    "    \"ICUSTAYS.csv\",\n",
    "    \"INPUTEVENTS_CV.csv\",\n",
    "    \"INPUTEVENTS_MV.csv\",\n",
    "    \"LABEVENTS.csv\",\n",
    "    \"MICROBIOLOGYEVENTS.csv\",\n",
    "    \"NOTEEVENTS.csv\",\n",
    "    \"OUTPUTEVENTS.csv\",\n",
    "    \"PATIENTS.csv\",\n",
    "    \"PRESCRIPTIONS.csv\",\n",
    "    \"PROCEDUREEVENTS_MV.csv\",\n",
    "    \"PROCEDURES_ICD.csv\",\n",
    "    \"SERVICES.csv\",\n",
    "    \"TRANSFERS.csv\",\n",
    "]"
   ]
  },
  {
   "cell_type": "code",
   "execution_count": 6,
   "metadata": {},
   "outputs": [
    {
     "name": "stderr",
     "output_type": "stream",
     "text": [
      "/var/folders/zg/pzhsf9sj45qcbpm46g7m_gf80000gp/T/ipykernel_5673/3965322016.py:4: DtypeWarning: Columns (8,10,13,14) have mixed types. Specify dtype option on import or set low_memory=False.\n",
      "  _df = pd.read_csv(\"../datasets/local/mimic-iii-clinical-database-demo-1.4/\" + f)\n",
      "/var/folders/zg/pzhsf9sj45qcbpm46g7m_gf80000gp/T/ipykernel_5673/3965322016.py:4: DtypeWarning: Columns (17,20,21) have mixed types. Specify dtype option on import or set low_memory=False.\n",
      "  _df = pd.read_csv(\"../datasets/local/mimic-iii-clinical-database-demo-1.4/\" + f)\n"
     ]
    }
   ],
   "source": [
    "alldfs = []\n",
    "\n",
    "for f in filenames:\n",
    "    _df = pd.read_csv(\"../datasets/local/mimic-iii-clinical-database-demo-1.4/\" + f)\n",
    "    alldfs.append(_df)"
   ]
  },
  {
   "cell_type": "markdown",
   "metadata": {},
   "source": [
    "\n"
   ]
  },
  {
   "cell_type": "code",
   "execution_count": 41,
   "metadata": {},
   "outputs": [
    {
     "name": "stdout",
     "output_type": "stream",
     "text": [
      "dataframe: NOTEEVENTS.csv\n",
      "Index(['row_id', 'subject_id', 'hadm_id', 'chartdate', 'charttime',\n",
      "       'storetime', 'category', 'description', 'cgid', 'iserror', 'text'],\n",
      "      dtype='object')\n"
     ]
    },
    {
     "data": {
      "text/html": [
       "<div>\n",
       "<style scoped>\n",
       "    .dataframe tbody tr th:only-of-type {\n",
       "        vertical-align: middle;\n",
       "    }\n",
       "\n",
       "    .dataframe tbody tr th {\n",
       "        vertical-align: top;\n",
       "    }\n",
       "\n",
       "    .dataframe thead th {\n",
       "        text-align: right;\n",
       "    }\n",
       "</style>\n",
       "<table border=\"1\" class=\"dataframe\">\n",
       "  <thead>\n",
       "    <tr style=\"text-align: right;\">\n",
       "      <th></th>\n",
       "      <th>row_id</th>\n",
       "      <th>subject_id</th>\n",
       "      <th>hadm_id</th>\n",
       "      <th>chartdate</th>\n",
       "      <th>charttime</th>\n",
       "      <th>storetime</th>\n",
       "      <th>category</th>\n",
       "      <th>description</th>\n",
       "      <th>cgid</th>\n",
       "      <th>iserror</th>\n",
       "      <th>text</th>\n",
       "    </tr>\n",
       "  </thead>\n",
       "  <tbody>\n",
       "  </tbody>\n",
       "</table>\n",
       "</div>"
      ],
      "text/plain": [
       "Empty DataFrame\n",
       "Columns: [row_id, subject_id, hadm_id, chartdate, charttime, storetime, category, description, cgid, iserror, text]\n",
       "Index: []"
      ]
     },
     "metadata": {},
     "output_type": "display_data"
    }
   ],
   "source": [
    "idx = 18\n",
    "currdf = alldfs[idx]\n",
    "print(\"dataframe: \" + filenames[idx])\n",
    "print(currdf.columns)\n",
    "display(currdf)"
   ]
  },
  {
   "cell_type": "markdown",
   "metadata": {},
   "source": [
    "### Notes\n",
    "\n",
    "None of these tables really has freeform text, seemingly the `NOTEEVENTS.csv` file might be best for this?\n"
   ]
  },
  {
   "cell_type": "markdown",
   "metadata": {},
   "source": [
    "# Multidomain\n"
   ]
  },
  {
   "cell_type": "code",
   "execution_count": 1,
   "metadata": {},
   "outputs": [],
   "source": [
    "import pandas as pd"
   ]
  },
  {
   "cell_type": "code",
   "execution_count": 2,
   "metadata": {},
   "outputs": [],
   "source": [
    "df_notes = pd.read_csv(\"../datasets/local/mimic-notes/notes.csv\")"
   ]
  },
  {
   "cell_type": "code",
   "execution_count": 6,
   "metadata": {},
   "outputs": [
    {
     "data": {
      "text/plain": [
       "(1512867, 7)"
      ]
     },
     "execution_count": 6,
     "metadata": {},
     "output_type": "execute_result"
    }
   ],
   "source": [
    "df_notes.shape"
   ]
  },
  {
   "cell_type": "code",
   "execution_count": 7,
   "metadata": {},
   "outputs": [
    {
     "data": {
      "text/plain": [
       "(1, 512, 867)"
      ]
     },
     "execution_count": 7,
     "metadata": {},
     "output_type": "execute_result"
    }
   ],
   "source": [
    "1, 512, 867"
   ]
  },
  {
   "cell_type": "code",
   "execution_count": 17,
   "metadata": {},
   "outputs": [],
   "source": [
    "def print_row(id):\n",
    "    row = df_notes.iloc[id]\n",
    "    display(row)\n",
    "    print(row[\"text\"])"
   ]
  },
  {
   "cell_type": "code",
   "execution_count": 18,
   "metadata": {},
   "outputs": [],
   "source": [
    "import random\n",
    "\n",
    "N = df_notes.shape[0]"
   ]
  },
  {
   "cell_type": "code",
   "execution_count": 23,
   "metadata": {},
   "outputs": [
    {
     "data": {
      "text/plain": [
       "subject_id                                                18996\n",
       "hadm_id                                                  136635\n",
       "icustayid                                                256711\n",
       "chartdate                                            2161-12-08\n",
       "charttime                                   2161-12-08 08:18:00\n",
       "category                                              Radiology\n",
       "text          [**2161-12-8**] 8:18 AM\\n US EXTREMITY NONVASC...\n",
       "Name: 376652, dtype: object"
      ]
     },
     "metadata": {},
     "output_type": "display_data"
    },
    {
     "name": "stdout",
     "output_type": "stream",
     "text": [
      "[**2161-12-8**] 8:18 AM\n",
      " US EXTREMITY NONVASCULAR LEFT                                   Clip # [**Clip Number (Radiology) 95460**]\n",
      " Reason: Please evaluate left AVF for clot/infection (radial).\n",
      " Admitting Diagnosis: RESPIRATORY FAILURE\n",
      " ______________________________________________________________________________\n",
      " [**Hospital 4**] MEDICAL CONDITION:\n",
      "  31 year old man with ESRD on HD, with known bilateral subclavian clots, also\n",
      "  with left radial failed AVF, here with positive blood cultures, sepsis,\n",
      "  wondering about infected AVF.\n",
      " REASON FOR THIS EXAMINATION:\n",
      "  Please evaluate left AVF for clot/infection (radial).\n",
      " ______________________________________________________________________________\n",
      "                                 FINAL REPORT\n",
      " INDICATION:  31-year-old male with failed left radial arteriovenous fistula,\n",
      " presenting with positive blood cultures and sepsis.  Evaluate left AV fistula\n",
      " for clot/abscess.\n",
      "\n",
      " COMPARISON:  [**2161-10-20**].\n",
      "\n",
      " FINDINGS:  Grayscale, color flow, and pulse Doppler evaluation of the left\n",
      " forearm demonstrates no subcutaneous fluid collections or evidence of abscess.\n",
      " The radial artery demonstrates normal flow and waveforms.  The left AV fistula\n",
      " is not visualized.\n",
      "\n",
      " IMPRESSION:  No evidence of abscess in the left forearm.  The AV fistula is\n",
      " not visualized and may be thrombosed.  Clinical correlation is recommended.\n",
      "\n",
      "\n",
      "\n"
     ]
    }
   ],
   "source": [
    "idx = random.randint(0, N)\n",
    "print_row(idx)"
   ]
  },
  {
   "cell_type": "code",
   "execution_count": null,
   "metadata": {},
   "outputs": [],
   "source": []
  }
 ],
 "metadata": {
  "kernelspec": {
   "display_name": "Python 3 (ipykernel)",
   "language": "python",
   "name": "python3"
  },
  "language_info": {
   "codemirror_mode": {
    "name": "ipython",
    "version": 3
   },
   "file_extension": ".py",
   "mimetype": "text/x-python",
   "name": "python",
   "nbconvert_exporter": "python",
   "pygments_lexer": "ipython3",
   "version": "3.10.13"
  }
 },
 "nbformat": 4,
 "nbformat_minor": 4
}
