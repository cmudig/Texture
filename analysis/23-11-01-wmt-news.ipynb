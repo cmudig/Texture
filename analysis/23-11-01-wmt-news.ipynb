{
 "cells": [
  {
   "cell_type": "code",
   "execution_count": 1,
   "metadata": {},
   "outputs": [],
   "source": [
    "import pandas as pd"
   ]
  },
  {
   "cell_type": "code",
   "execution_count": 7,
   "metadata": {},
   "outputs": [],
   "source": [
    "from tmx2dataframe import tmx2dataframe"
   ]
  },
  {
   "cell_type": "code",
   "execution_count": 6,
   "metadata": {},
   "outputs": [
    {
     "data": {
      "text/plain": [
       "['__builtins__',\n",
       " '__cached__',\n",
       " '__doc__',\n",
       " '__file__',\n",
       " '__loader__',\n",
       " '__name__',\n",
       " '__package__',\n",
       " '__path__',\n",
       " '__spec__',\n",
       " 'name']"
      ]
     },
     "execution_count": 6,
     "metadata": {},
     "output_type": "execute_result"
    }
   ],
   "source": [
    "dir(tmx2dataframe)"
   ]
  },
  {
   "cell_type": "code",
   "execution_count": 8,
   "metadata": {},
   "outputs": [],
   "source": [
    "metadata, df = tmx2dataframe.read(\"../datasets/local/wmt-news/en-es.tmx\")"
   ]
  },
  {
   "cell_type": "code",
   "execution_count": 11,
   "metadata": {},
   "outputs": [
    {
     "data": {
      "text/html": [
       "<div>\n",
       "<style scoped>\n",
       "    .dataframe tbody tr th:only-of-type {\n",
       "        vertical-align: middle;\n",
       "    }\n",
       "\n",
       "    .dataframe tbody tr th {\n",
       "        vertical-align: top;\n",
       "    }\n",
       "\n",
       "    .dataframe thead th {\n",
       "        text-align: right;\n",
       "    }\n",
       "</style>\n",
       "<table border=\"1\" class=\"dataframe\">\n",
       "  <thead>\n",
       "    <tr style=\"text-align: right;\">\n",
       "      <th></th>\n",
       "      <th>en</th>\n",
       "      <th>es</th>\n",
       "    </tr>\n",
       "  </thead>\n",
       "  <tbody>\n",
       "    <tr>\n",
       "      <th>0</th>\n",
       "      <td>Right-wing populists triumph in Austria, have ...</td>\n",
       "      <td>Triunfo de la derecha populista en Austria, ju...</td>\n",
       "    </tr>\n",
       "    <tr>\n",
       "      <th>1</th>\n",
       "      <td>According to the first preliminary results of ...</td>\n",
       "      <td>Las elecciones anticipadas al parlamento austr...</td>\n",
       "    </tr>\n",
       "    <tr>\n",
       "      <th>2</th>\n",
       "      <td>The Austrian People's Party (ÖVP), where the p...</td>\n",
       "      <td>Unas fuertes y especiales pérdidas ha sufrido ...</td>\n",
       "    </tr>\n",
       "    <tr>\n",
       "      <th>3</th>\n",
       "      <td>Conversely, the campaign leader of the Allianc...</td>\n",
       "      <td>Por el contrario, el líder de la Alianza para ...</td>\n",
       "    </tr>\n",
       "    <tr>\n",
       "      <th>4</th>\n",
       "      <td>According to the preliminary results, the Soci...</td>\n",
       "      <td>Según los resultados aproximados, la socialdem...</td>\n",
       "    </tr>\n",
       "    <tr>\n",
       "      <th>...</th>\n",
       "      <td>...</td>\n",
       "      <td>...</td>\n",
       "    </tr>\n",
       "    <tr>\n",
       "      <th>14504</th>\n",
       "      <td>We have an indulgence from the Pope.</td>\n",
       "      <td>Tenemos un indulto del Papa.</td>\n",
       "    </tr>\n",
       "    <tr>\n",
       "      <th>14505</th>\n",
       "      <td>Restall noted that over the years there has be...</td>\n",
       "      <td>Restall hizo notar que a lo largo de los años ...</td>\n",
       "    </tr>\n",
       "    <tr>\n",
       "      <th>14506</th>\n",
       "      <td>Students and teachers are taking the date ligh...</td>\n",
       "      <td>Estudiantes y profesores se están tomando a la...</td>\n",
       "    </tr>\n",
       "    <tr>\n",
       "      <th>14507</th>\n",
       "      <td>Some said they plan to go to \"end of the world...</td>\n",
       "      <td>Varios dijeron que piensan ir a fiestas \"del f...</td>\n",
       "    </tr>\n",
       "    <tr>\n",
       "      <th>14508</th>\n",
       "      <td>\"Maybe I'll call some friends so we can have a...</td>\n",
       "      <td>\"Tal vez llame a algunos amigos para que nos r...</td>\n",
       "    </tr>\n",
       "  </tbody>\n",
       "</table>\n",
       "<p>14509 rows × 2 columns</p>\n",
       "</div>"
      ],
      "text/plain": [
       "                                                      en  \\\n",
       "0      Right-wing populists triumph in Austria, have ...   \n",
       "1      According to the first preliminary results of ...   \n",
       "2      The Austrian People's Party (ÖVP), where the p...   \n",
       "3      Conversely, the campaign leader of the Allianc...   \n",
       "4      According to the preliminary results, the Soci...   \n",
       "...                                                  ...   \n",
       "14504               We have an indulgence from the Pope.   \n",
       "14505  Restall noted that over the years there has be...   \n",
       "14506  Students and teachers are taking the date ligh...   \n",
       "14507  Some said they plan to go to \"end of the world...   \n",
       "14508  \"Maybe I'll call some friends so we can have a...   \n",
       "\n",
       "                                                      es  \n",
       "0      Triunfo de la derecha populista en Austria, ju...  \n",
       "1      Las elecciones anticipadas al parlamento austr...  \n",
       "2      Unas fuertes y especiales pérdidas ha sufrido ...  \n",
       "3      Por el contrario, el líder de la Alianza para ...  \n",
       "4      Según los resultados aproximados, la socialdem...  \n",
       "...                                                  ...  \n",
       "14504                       Tenemos un indulto del Papa.  \n",
       "14505  Restall hizo notar que a lo largo de los años ...  \n",
       "14506  Estudiantes y profesores se están tomando a la...  \n",
       "14507  Varios dijeron que piensan ir a fiestas \"del f...  \n",
       "14508  \"Tal vez llame a algunos amigos para que nos r...  \n",
       "\n",
       "[14509 rows x 2 columns]"
      ]
     },
     "execution_count": 11,
     "metadata": {},
     "output_type": "execute_result"
    }
   ],
   "source": [
    "df = df.rename(columns={\"source_sentence\": \"en\", \"target_sentence\": \"es\"})\n",
    "df = df[[\"en\", \"es\"]]\n",
    "df"
   ]
  },
  {
   "cell_type": "code",
   "execution_count": 14,
   "metadata": {},
   "outputs": [
    {
     "data": {
      "text/plain": [
       "(14509, 2)"
      ]
     },
     "execution_count": 14,
     "metadata": {},
     "output_type": "execute_result"
    }
   ],
   "source": [
    "df.shape"
   ]
  },
  {
   "cell_type": "code",
   "execution_count": 15,
   "metadata": {},
   "outputs": [
    {
     "data": {
      "text/plain": [
       "14504"
      ]
     },
     "execution_count": 15,
     "metadata": {},
     "output_type": "execute_result"
    }
   ],
   "source": [
    "df[\"en\"].nunique()"
   ]
  },
  {
   "cell_type": "code",
   "execution_count": 16,
   "metadata": {},
   "outputs": [
    {
     "data": {
      "text/plain": [
       "14499"
      ]
     },
     "execution_count": 16,
     "metadata": {},
     "output_type": "execute_result"
    }
   ],
   "source": [
    "df[\"es\"].nunique()"
   ]
  },
  {
   "cell_type": "code",
   "execution_count": 17,
   "metadata": {},
   "outputs": [
    {
     "data": {
      "text/html": [
       "<div>\n",
       "<style scoped>\n",
       "    .dataframe tbody tr th:only-of-type {\n",
       "        vertical-align: middle;\n",
       "    }\n",
       "\n",
       "    .dataframe tbody tr th {\n",
       "        vertical-align: top;\n",
       "    }\n",
       "\n",
       "    .dataframe thead th {\n",
       "        text-align: right;\n",
       "    }\n",
       "</style>\n",
       "<table border=\"1\" class=\"dataframe\">\n",
       "  <thead>\n",
       "    <tr style=\"text-align: right;\">\n",
       "      <th></th>\n",
       "      <th>en</th>\n",
       "      <th>es</th>\n",
       "    </tr>\n",
       "  </thead>\n",
       "  <tbody>\n",
       "    <tr>\n",
       "      <th>4043</th>\n",
       "      <td>The French Eurodeputy, José Bové, a face of an...</td>\n",
       "      <td>El eurodiputado francés José Bové, figura de l...</td>\n",
       "    </tr>\n",
       "    <tr>\n",
       "      <th>4045</th>\n",
       "      <td>According to organisers, some 50 000 people to...</td>\n",
       "      <td>Según los organizadores, unas 50.000 personas ...</td>\n",
       "    </tr>\n",
       "    <tr>\n",
       "      <th>4087</th>\n",
       "      <td>The French Eurodeputy, José Bové, a face of an...</td>\n",
       "      <td>El eurodiputado francés José Bové, figura de l...</td>\n",
       "    </tr>\n",
       "    <tr>\n",
       "      <th>4089</th>\n",
       "      <td>According to organisers, some 50 000 people to...</td>\n",
       "      <td>Según los organizadores, unas 5.000 personas s...</td>\n",
       "    </tr>\n",
       "    <tr>\n",
       "      <th>4509</th>\n",
       "      <td>The snow can come</td>\n",
       "      <td>Las nevadas pueden empezar repentinamente</td>\n",
       "    </tr>\n",
       "    <tr>\n",
       "      <th>4985</th>\n",
       "      <td>The snow can come</td>\n",
       "      <td>La nieve puede venir</td>\n",
       "    </tr>\n",
       "    <tr>\n",
       "      <th>11517</th>\n",
       "      <td>In this sense, the measures will partially und...</td>\n",
       "      <td>En ese sentido, estas medidas minarán en parte...</td>\n",
       "    </tr>\n",
       "    <tr>\n",
       "      <th>11563</th>\n",
       "      <td>In this sense, the measures will partially und...</td>\n",
       "      <td>En este sentido, las medidas minarán en parte ...</td>\n",
       "    </tr>\n",
       "    <tr>\n",
       "      <th>13161</th>\n",
       "      <td>The Chinese authorities are unaware of any wro...</td>\n",
       "      <td>Las autoridades chinas no se sienten culpables</td>\n",
       "    </tr>\n",
       "    <tr>\n",
       "      <th>13176</th>\n",
       "      <td>The Chinese authorities are unaware of any wro...</td>\n",
       "      <td>Las autoridades chinas no se sienten culpables.</td>\n",
       "    </tr>\n",
       "  </tbody>\n",
       "</table>\n",
       "</div>"
      ],
      "text/plain": [
       "                                                      en  \\\n",
       "4043   The French Eurodeputy, José Bové, a face of an...   \n",
       "4045   According to organisers, some 50 000 people to...   \n",
       "4087   The French Eurodeputy, José Bové, a face of an...   \n",
       "4089   According to organisers, some 50 000 people to...   \n",
       "4509                                   The snow can come   \n",
       "4985                                   The snow can come   \n",
       "11517  In this sense, the measures will partially und...   \n",
       "11563  In this sense, the measures will partially und...   \n",
       "13161  The Chinese authorities are unaware of any wro...   \n",
       "13176  The Chinese authorities are unaware of any wro...   \n",
       "\n",
       "                                                      es  \n",
       "4043   El eurodiputado francés José Bové, figura de l...  \n",
       "4045   Según los organizadores, unas 50.000 personas ...  \n",
       "4087   El eurodiputado francés José Bové, figura de l...  \n",
       "4089   Según los organizadores, unas 5.000 personas s...  \n",
       "4509           Las nevadas pueden empezar repentinamente  \n",
       "4985                                La nieve puede venir  \n",
       "11517  En ese sentido, estas medidas minarán en parte...  \n",
       "11563  En este sentido, las medidas minarán en parte ...  \n",
       "13161     Las autoridades chinas no se sienten culpables  \n",
       "13176    Las autoridades chinas no se sienten culpables.  "
      ]
     },
     "execution_count": 17,
     "metadata": {},
     "output_type": "execute_result"
    }
   ],
   "source": [
    "df.groupby(\"en\").filter(lambda x: len(x) > 1)"
   ]
  },
  {
   "cell_type": "code",
   "execution_count": 19,
   "metadata": {},
   "outputs": [],
   "source": [
    "df.to_csv(\"../datasets/raw/wmt-news.csv\", index=False)"
   ]
  },
  {
   "cell_type": "code",
   "execution_count": null,
   "metadata": {},
   "outputs": [],
   "source": []
  }
 ],
 "metadata": {
  "kernelspec": {
   "display_name": "text-py-3.10",
   "language": "python",
   "name": "python3"
  },
  "language_info": {
   "codemirror_mode": {
    "name": "ipython",
    "version": 3
   },
   "file_extension": ".py",
   "mimetype": "text/x-python",
   "name": "python",
   "nbconvert_exporter": "python",
   "pygments_lexer": "ipython3",
   "version": "3.10.13"
  },
  "orig_nbformat": 4
 },
 "nbformat": 4,
 "nbformat_minor": 2
}
