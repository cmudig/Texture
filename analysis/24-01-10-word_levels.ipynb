{
 "cells": [
  {
   "cell_type": "code",
   "execution_count": 3,
   "metadata": {},
   "outputs": [
    {
     "data": {
      "application/vnd.jupyter.widget-view+json": {
       "model_id": "80be803ebd95413fb03ad3cfab3c7017",
       "version_major": 2,
       "version_minor": 0
      },
      "text/plain": [
       "MosaicWidget(spec={'params': {'click': {'select': 'single'}, 'domain': ['sun', 'fog', 'drizzle', 'rain', 'snow…"
      ]
     },
     "execution_count": 3,
     "metadata": {},
     "output_type": "execute_result"
    }
   ],
   "source": [
    "import pandas as pd\n",
    "import yaml\n",
    "from mosaic_widget import MosaicWidget\n",
    "\n",
    "weather = pd.read_csv(\n",
    "    \"https://uwdata.github.io/mosaic-datasets/data/seattle-weather.csv\",\n",
    "    parse_dates=[\"date\"],\n",
    ")\n",
    "\n",
    "spec = {\n",
    "    \"params\": {\n",
    "        \"click\": {\"select\": \"single\"},\n",
    "        \"domain\": [\"sun\", \"fog\", \"drizzle\", \"rain\", \"snow\"],\n",
    "        \"colors\": [\"#e7ba52\", \"#a7a7a7\", \"#aec7e8\", \"#1f77b4\", \"#9467bd\"],\n",
    "    },\n",
    "    \"vconcat\": [\n",
    "        {\n",
    "            \"hconcat\": [\n",
    "                {\n",
    "                    \"plot\": [\n",
    "                        {\n",
    "                            \"mark\": \"dot\",\n",
    "                            \"data\": {\"from\": \"weather\", \"filterBy\": \"$click\"},\n",
    "                            \"x\": {\"dateMonthDay\": \"date\"},\n",
    "                            \"y\": \"temp_max\",\n",
    "                            \"fill\": \"weather\",\n",
    "                            \"r\": \"precipitation\",\n",
    "                            \"opacity\": 0.7,\n",
    "                        },\n",
    "                        {\"select\": \"intervalX\", \"as\": \"$range\"},\n",
    "                        {\"select\": \"highlight\", \"by\": \"$range\", \"fill\": \"#eee\"},\n",
    "                        {\"legend\": \"color\", \"as\": \"$click\", \"columns\": 1},\n",
    "                    ],\n",
    "                    \"xyDomain\": \"Fixed\",\n",
    "                    \"xTickFormat\": \"%b\",\n",
    "                    \"colorDomain\": \"$domain\",\n",
    "                    \"colorRange\": \"$colors\",\n",
    "                    \"rDomain\": \"Fixed\",\n",
    "                    \"rRange\": [2, 10],\n",
    "                    \"width\": 800,\n",
    "                }\n",
    "            ]\n",
    "        },\n",
    "        {\n",
    "            \"plot\": [\n",
    "                {\n",
    "                    \"mark\": \"barX\",\n",
    "                    \"data\": {\"from\": \"weather\"},\n",
    "                    \"x\": {\"count\": None},\n",
    "                    \"y\": \"weather\",\n",
    "                    \"fill\": \"#f5f5f5\",\n",
    "                },\n",
    "                {\n",
    "                    \"mark\": \"barX\",\n",
    "                    \"data\": {\"from\": \"weather\", \"filterBy\": \"$range\"},\n",
    "                    \"x\": {\"count\": None},\n",
    "                    \"y\": \"weather\",\n",
    "                    \"fill\": \"weather\",\n",
    "                    \"order\": \"weather\",\n",
    "                },\n",
    "                {\"select\": \"toggleY\", \"as\": \"$click\"},\n",
    "                {\"select\": \"highlight\", \"by\": \"$click\"},\n",
    "            ],\n",
    "            \"xDomain\": \"Fixed\",\n",
    "            \"yDomain\": \"$domain\",\n",
    "            \"yLabel\": None,\n",
    "            \"colorDomain\": \"$domain\",\n",
    "            \"colorRange\": \"$colors\",\n",
    "            \"width\": 800,\n",
    "        },\n",
    "    ],\n",
    "}\n",
    "\n",
    "\n",
    "MosaicWidget(spec, data={\"weather\": weather})"
   ]
  },
  {
   "cell_type": "markdown",
   "metadata": {},
   "source": [
    "# Word, sentence, and document metrics\n"
   ]
  },
  {
   "cell_type": "code",
   "execution_count": 4,
   "metadata": {},
   "outputs": [],
   "source": [
    "import pandas as pd"
   ]
  },
  {
   "cell_type": "code",
   "execution_count": 7,
   "metadata": {},
   "outputs": [],
   "source": [
    "df_vast = pd.read_csv(\"../datasets/raw/vast2021.csv\")\n",
    "message_col = df_vast[\"message\"]"
   ]
  },
  {
   "cell_type": "code",
   "execution_count": 15,
   "metadata": {},
   "outputs": [
    {
     "data": {
      "text/plain": [
       "'Dr. Audrey McConnell Newman, internationally recognized environmental activist, traveled to Abila to speak for the POK rally'"
      ]
     },
     "execution_count": 15,
     "metadata": {},
     "output_type": "execute_result"
    }
   ],
   "source": [
    "message_col.iloc[150]"
   ]
  },
  {
   "cell_type": "code",
   "execution_count": 12,
   "metadata": {},
   "outputs": [],
   "source": [
    "import nltk"
   ]
  },
  {
   "cell_type": "code",
   "execution_count": 27,
   "metadata": {},
   "outputs": [],
   "source": [
    "def create_col(func, name):\n",
    "    _t = message_col.apply(func)\n",
    "    table = _t.explode().reset_index()\n",
    "    table.columns = [\"id\", name]\n",
    "\n",
    "    return table\n",
    "\n",
    "\n",
    "character_table = create_col(list, \"character\")\n",
    "word_table = create_col(nltk.tokenize.word_tokenize, \"word\")\n",
    "sentence_table = create_col(nltk.tokenize.sent_tokenize, \"sentence\")"
   ]
  },
  {
   "cell_type": "code",
   "execution_count": 45,
   "metadata": {},
   "outputs": [],
   "source": [
    "character_table.to_parquet(\"character.parquet\")\n",
    "word_table.to_parquet(\"word.parquet\")\n",
    "sentence_table.to_parquet(\"sentence.parquet\")"
   ]
  },
  {
   "cell_type": "code",
   "execution_count": 34,
   "metadata": {},
   "outputs": [],
   "source": [
    "raw_df = message_col.reset_index()\n",
    "raw_df.columns = [\"id\", \"message\"]"
   ]
  },
  {
   "cell_type": "code",
   "execution_count": 47,
   "metadata": {},
   "outputs": [
    {
     "data": {
      "text/html": [
       "<div>\n",
       "<style scoped>\n",
       "    .dataframe tbody tr th:only-of-type {\n",
       "        vertical-align: middle;\n",
       "    }\n",
       "\n",
       "    .dataframe tbody tr th {\n",
       "        vertical-align: top;\n",
       "    }\n",
       "\n",
       "    .dataframe thead th {\n",
       "        text-align: right;\n",
       "    }\n",
       "</style>\n",
       "<table border=\"1\" class=\"dataframe\">\n",
       "  <thead>\n",
       "    <tr style=\"text-align: right;\">\n",
       "      <th></th>\n",
       "      <th>message</th>\n",
       "      <th>type</th>\n",
       "      <th>author</th>\n",
       "      <th>date</th>\n",
       "    </tr>\n",
       "  </thead>\n",
       "  <tbody>\n",
       "    <tr>\n",
       "      <th>0</th>\n",
       "      <td>Follow us @POK-Kronos</td>\n",
       "      <td>mbdata</td>\n",
       "      <td>POK</td>\n",
       "      <td>2014-01-23 17:00:00</td>\n",
       "    </tr>\n",
       "    <tr>\n",
       "      <th>1</th>\n",
       "      <td>Don't miss a moment!  Follow our live coverage...</td>\n",
       "      <td>mbdata</td>\n",
       "      <td>maha_Homeland</td>\n",
       "      <td>2014-01-23 17:00:00</td>\n",
       "    </tr>\n",
       "    <tr>\n",
       "      <th>2</th>\n",
       "      <td>Come join us in the Park! Music tonight at Abi...</td>\n",
       "      <td>mbdata</td>\n",
       "      <td>Viktor-E</td>\n",
       "      <td>2014-01-23 17:00:00</td>\n",
       "    </tr>\n",
       "    <tr>\n",
       "      <th>3</th>\n",
       "      <td>POK rally to start in Abila City Park. POK lea...</td>\n",
       "      <td>mbdata</td>\n",
       "      <td>KronosStar</td>\n",
       "      <td>2014-01-23 17:00:00</td>\n",
       "    </tr>\n",
       "    <tr>\n",
       "      <th>4</th>\n",
       "      <td>POK rally set to take place in Abila City Park...</td>\n",
       "      <td>mbdata</td>\n",
       "      <td>AbilaPost</td>\n",
       "      <td>2014-01-23 17:00:00</td>\n",
       "    </tr>\n",
       "    <tr>\n",
       "      <th>...</th>\n",
       "      <td>...</td>\n",
       "      <td>...</td>\n",
       "      <td>...</td>\n",
       "      <td>...</td>\n",
       "    </tr>\n",
       "    <tr>\n",
       "      <th>4058</th>\n",
       "      <td>RT @AbilaPost unknown explosion heard from the...</td>\n",
       "      <td>mbdata</td>\n",
       "      <td>plasticParts</td>\n",
       "      <td>2014-01-23 21:33:10</td>\n",
       "    </tr>\n",
       "    <tr>\n",
       "      <th>4059</th>\n",
       "      <td>RT @CentralBulletin explosion heard at dancing...</td>\n",
       "      <td>mbdata</td>\n",
       "      <td>klingon4real</td>\n",
       "      <td>2014-01-23 21:33:45</td>\n",
       "    </tr>\n",
       "    <tr>\n",
       "      <th>4060</th>\n",
       "      <td>RT @KronosStar There has been an explosion fro...</td>\n",
       "      <td>mbdata</td>\n",
       "      <td>lindyT</td>\n",
       "      <td>2014-01-23 21:34:00</td>\n",
       "    </tr>\n",
       "    <tr>\n",
       "      <th>4061</th>\n",
       "      <td>RT @redisrad What was that? #boom</td>\n",
       "      <td>mbdata</td>\n",
       "      <td>dolls4sale</td>\n",
       "      <td>2014-01-23 21:34:00</td>\n",
       "    </tr>\n",
       "    <tr>\n",
       "      <th>4062</th>\n",
       "      <td>RT @CentralBulletin explosion heard at dancing...</td>\n",
       "      <td>mbdata</td>\n",
       "      <td>worldWatcher</td>\n",
       "      <td>2014-01-23 21:34:45</td>\n",
       "    </tr>\n",
       "  </tbody>\n",
       "</table>\n",
       "<p>4063 rows × 4 columns</p>\n",
       "</div>"
      ],
      "text/plain": [
       "                                                message    type  \\\n",
       "0                                 Follow us @POK-Kronos  mbdata   \n",
       "1     Don't miss a moment!  Follow our live coverage...  mbdata   \n",
       "2     Come join us in the Park! Music tonight at Abi...  mbdata   \n",
       "3     POK rally to start in Abila City Park. POK lea...  mbdata   \n",
       "4     POK rally set to take place in Abila City Park...  mbdata   \n",
       "...                                                 ...     ...   \n",
       "4058  RT @AbilaPost unknown explosion heard from the...  mbdata   \n",
       "4059  RT @CentralBulletin explosion heard at dancing...  mbdata   \n",
       "4060  RT @KronosStar There has been an explosion fro...  mbdata   \n",
       "4061                  RT @redisrad What was that? #boom  mbdata   \n",
       "4062  RT @CentralBulletin explosion heard at dancing...  mbdata   \n",
       "\n",
       "             author                 date  \n",
       "0               POK  2014-01-23 17:00:00  \n",
       "1     maha_Homeland  2014-01-23 17:00:00  \n",
       "2          Viktor-E  2014-01-23 17:00:00  \n",
       "3        KronosStar  2014-01-23 17:00:00  \n",
       "4         AbilaPost  2014-01-23 17:00:00  \n",
       "...             ...                  ...  \n",
       "4058   plasticParts  2014-01-23 21:33:10  \n",
       "4059   klingon4real  2014-01-23 21:33:45  \n",
       "4060         lindyT  2014-01-23 21:34:00  \n",
       "4061     dolls4sale  2014-01-23 21:34:00  \n",
       "4062   worldWatcher  2014-01-23 21:34:45  \n",
       "\n",
       "[4063 rows x 4 columns]"
      ]
     },
     "execution_count": 47,
     "metadata": {},
     "output_type": "execute_result"
    }
   ],
   "source": [
    "save_df = df_vast[[\"message\", \"type\", \"author\", \"date\"]]\n",
    "\n",
    "save_df"
   ]
  },
  {
   "cell_type": "code",
   "execution_count": 49,
   "metadata": {},
   "outputs": [
    {
     "data": {
      "text/html": [
       "<div>\n",
       "<style scoped>\n",
       "    .dataframe tbody tr th:only-of-type {\n",
       "        vertical-align: middle;\n",
       "    }\n",
       "\n",
       "    .dataframe tbody tr th {\n",
       "        vertical-align: top;\n",
       "    }\n",
       "\n",
       "    .dataframe thead th {\n",
       "        text-align: right;\n",
       "    }\n",
       "</style>\n",
       "<table border=\"1\" class=\"dataframe\">\n",
       "  <thead>\n",
       "    <tr style=\"text-align: right;\">\n",
       "      <th></th>\n",
       "      <th>id</th>\n",
       "      <th>sentence</th>\n",
       "    </tr>\n",
       "  </thead>\n",
       "  <tbody>\n",
       "    <tr>\n",
       "      <th>0</th>\n",
       "      <td>0</td>\n",
       "      <td>Follow us @POK-Kronos</td>\n",
       "    </tr>\n",
       "    <tr>\n",
       "      <th>1</th>\n",
       "      <td>1</td>\n",
       "      <td>Don't miss a moment!</td>\n",
       "    </tr>\n",
       "    <tr>\n",
       "      <th>2</th>\n",
       "      <td>1</td>\n",
       "      <td>Follow our live coverage of the POK Rally in t...</td>\n",
       "    </tr>\n",
       "    <tr>\n",
       "      <th>3</th>\n",
       "      <td>2</td>\n",
       "      <td>Come join us in the Park!</td>\n",
       "    </tr>\n",
       "    <tr>\n",
       "      <th>4</th>\n",
       "      <td>2</td>\n",
       "      <td>Music tonight at Abila City Park!</td>\n",
       "    </tr>\n",
       "    <tr>\n",
       "      <th>...</th>\n",
       "      <td>...</td>\n",
       "      <td>...</td>\n",
       "    </tr>\n",
       "    <tr>\n",
       "      <th>6788</th>\n",
       "      <td>4060</td>\n",
       "      <td>Several people are down.</td>\n",
       "    </tr>\n",
       "    <tr>\n",
       "      <th>6789</th>\n",
       "      <td>4060</td>\n",
       "      <td>#KronosStar #DancingDolphinFire #AFDHeroes</td>\n",
       "    </tr>\n",
       "    <tr>\n",
       "      <th>6790</th>\n",
       "      <td>4061</td>\n",
       "      <td>RT @redisrad What was that?</td>\n",
       "    </tr>\n",
       "    <tr>\n",
       "      <th>6791</th>\n",
       "      <td>4061</td>\n",
       "      <td>#boom</td>\n",
       "    </tr>\n",
       "    <tr>\n",
       "      <th>6792</th>\n",
       "      <td>4062</td>\n",
       "      <td>RT @CentralBulletin explosion heard at dancing...</td>\n",
       "    </tr>\n",
       "  </tbody>\n",
       "</table>\n",
       "<p>6793 rows × 2 columns</p>\n",
       "</div>"
      ],
      "text/plain": [
       "        id                                           sentence\n",
       "0        0                              Follow us @POK-Kronos\n",
       "1        1                               Don't miss a moment!\n",
       "2        1  Follow our live coverage of the POK Rally in t...\n",
       "3        2                          Come join us in the Park!\n",
       "4        2                  Music tonight at Abila City Park!\n",
       "...    ...                                                ...\n",
       "6788  4060                           Several people are down.\n",
       "6789  4060         #KronosStar #DancingDolphinFire #AFDHeroes\n",
       "6790  4061                        RT @redisrad What was that?\n",
       "6791  4061                                              #boom\n",
       "6792  4062  RT @CentralBulletin explosion heard at dancing...\n",
       "\n",
       "[6793 rows x 2 columns]"
      ]
     },
     "execution_count": 49,
     "metadata": {},
     "output_type": "execute_result"
    }
   ],
   "source": [
    "sentence_table"
   ]
  },
  {
   "cell_type": "code",
   "execution_count": 50,
   "metadata": {},
   "outputs": [],
   "source": [
    "save_df = save_df.reset_index()\n",
    "save_df = save_df.rename(columns={\"index\": \"id\"})"
   ]
  },
  {
   "cell_type": "code",
   "execution_count": 55,
   "metadata": {},
   "outputs": [],
   "source": [
    "save_df[\"date\"] = pd.to_datetime(save_df[\"date\"])"
   ]
  },
  {
   "cell_type": "code",
   "execution_count": 57,
   "metadata": {},
   "outputs": [],
   "source": [
    "save_df.to_parquet(\"mainTable.parquet\")"
   ]
  },
  {
   "cell_type": "code",
   "execution_count": null,
   "metadata": {},
   "outputs": [],
   "source": []
  },
  {
   "cell_type": "code",
   "execution_count": 43,
   "metadata": {},
   "outputs": [
    {
     "data": {
      "application/vnd.jupyter.widget-view+json": {
       "model_id": "8e76096600b847e0a0a12f126d10456e",
       "version_major": 2,
       "version_minor": 0
      },
      "text/plain": [
       "MosaicWidget(spec={'vconcat': [{'plot': [{'mark': 'barX', 'data': {'from': 'wordTable'}, 'x': {'count': None},…"
      ]
     },
     "execution_count": 43,
     "metadata": {},
     "output_type": "execute_result"
    }
   ],
   "source": [
    "from mosaic_widget import MosaicWidget\n",
    "\n",
    "\n",
    "data_map = {\n",
    "    # \"characterTable\": character_table,\n",
    "    \"wordTable\": word_table,\n",
    "    \"sentenceTable\": sentence_table,\n",
    "    \"mainTable\": raw_df,\n",
    "}\n",
    "\n",
    "spec = {\n",
    "    #   \"params\": {\n",
    "    #     \"click\": { \"select\": \"single\" },\n",
    "    #     \"domain\": [\"sun\", \"fog\", \"drizzle\", \"rain\", \"snow\"],\n",
    "    #     \"colors\": [\"#e7ba52\", \"#a7a7a7\", \"#aec7e8\", \"#1f77b4\", \"#9467bd\"]\n",
    "    #   },\n",
    "    \"vconcat\": [\n",
    "        {\n",
    "            \"plot\": [\n",
    "                {\n",
    "                    \"mark\": \"barX\",\n",
    "                    \"data\": {\"from\": \"wordTable\"},\n",
    "                    \"x\": {\"count\": None},\n",
    "                    \"y\": \"word\",\n",
    "                    \"order\": \"word\",\n",
    "                    \"sort\": {\"y\": \"-x\", \"limit\": 20},\n",
    "                    \"marginLeft\": 50,\n",
    "                },\n",
    "                # {\n",
    "                #   \"mark\": \"barX\",\n",
    "                #   \"data\": { \"from\": \"weather\", \"filterBy\": \"$range\" },\n",
    "                #   \"x\": { \"count\": None },\n",
    "                #   \"y\": \"weather\",\n",
    "                #   \"fill\": \"weather\",\n",
    "                #   \"order\": \"weather\"\n",
    "                # },\n",
    "                # { \"select\": \"toggleY\", \"as\": \"$click\" },\n",
    "                # { \"select\": \"highlight\", \"by\": \"$click\" }\n",
    "            ],\n",
    "        }\n",
    "    ]\n",
    "}\n",
    "\n",
    "\n",
    "MosaicWidget(spec, data=data_map)"
   ]
  },
  {
   "cell_type": "code",
   "execution_count": null,
   "metadata": {},
   "outputs": [],
   "source": []
  }
 ],
 "metadata": {
  "kernelspec": {
   "display_name": "text-py-3.10",
   "language": "python",
   "name": "python3"
  },
  "language_info": {
   "codemirror_mode": {
    "name": "ipython",
    "version": 3
   },
   "file_extension": ".py",
   "mimetype": "text/x-python",
   "name": "python",
   "nbconvert_exporter": "python",
   "pygments_lexer": "ipython3",
   "version": "3.10.13"
  }
 },
 "nbformat": 4,
 "nbformat_minor": 2
}
