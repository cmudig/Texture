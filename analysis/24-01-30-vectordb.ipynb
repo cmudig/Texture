{
 "cells": [
  {
   "cell_type": "markdown",
   "metadata": {},
   "source": [
    "# Trying out lancedb\n"
   ]
  },
  {
   "cell_type": "code",
   "execution_count": 1,
   "metadata": {},
   "outputs": [
    {
     "name": "stderr",
     "output_type": "stream",
     "text": [
      "/Users/wepperso/miniconda3/envs/textprofiler/lib/python3.10/site-packages/tqdm/auto.py:21: TqdmWarning: IProgress not found. Please update jupyter and ipywidgets. See https://ipywidgets.readthedocs.io/en/stable/user_install.html\n",
      "  from .autonotebook import tqdm as notebook_tqdm\n"
     ]
    }
   ],
   "source": [
    "import pandas as pd\n",
    "import torch\n",
    "import lancedb\n",
    "from pathlib import Path\n",
    "import numpy as np\n",
    "\n",
    "CACHE_PATH = \"./local\""
   ]
  },
  {
   "cell_type": "code",
   "execution_count": 2,
   "metadata": {},
   "outputs": [],
   "source": [
    "class VectorDBConnection:\n",
    "    def __init__(self, database_dir=\"lancedb\"):\n",
    "        \"\"\"\n",
    "        embed_func: function that takes a string and returns a numpy array embedding.\n",
    "        This MUST be same model as original embeddings or else comparison will not work\n",
    "        \"\"\"\n",
    "        Path(CACHE_PATH).mkdir(parents=True, exist_ok=True)\n",
    "        p = Path(CACHE_PATH) / database_dir\n",
    "\n",
    "        print(\"Making new LanceDB connection\")\n",
    "\n",
    "        # NOTE: can save this to file, but potentially causes issues with old tables\n",
    "        # so right now making new database on start up each time\n",
    "        # self.connection = duckdb.connect()\n",
    "        self.connection = lancedb.connect(p)\n",
    "        self.id_cols = {}\n",
    "        self.embed_funcs = {}\n",
    "\n",
    "    def _check(self, table_name, check_conn=False, check_id=False, check_embed=False):\n",
    "        if check_conn and table_name not in self.connection:\n",
    "            raise ValueError(f\"Table {table_name} not found in LanceDB.\")\n",
    "\n",
    "        if check_id and table_name not in self.id_cols:\n",
    "            raise ValueError(f\"Table {table_name} does not have an id column saved.\")\n",
    "\n",
    "        if check_embed and table_name not in self.embed_funcs:\n",
    "            raise ValueError(f\"Table {table_name} does not have an embedding function.\")\n",
    "\n",
    "    def add_table(\n",
    "        self, table_name: str, data: pd.DataFrame, id_col_name: str, embed_func\n",
    "    ):\n",
    "        \"\"\"\n",
    "        Add a table to the database.\n",
    "\n",
    "        Args:\n",
    "            table_name (str): The name of the table.\n",
    "            data (pd.DataFrame): The dataframe containing the metadata and a column called \"vector\" with numpy arrays per row representing the vector representation.\n",
    "            id_col_name (str): The name of the column in the dataframe that contains the unique identifier for each row.\n",
    "            embed_func: function that takes a string and returns a numpy array embedding for this table\n",
    "\n",
    "        Returns:\n",
    "            None\n",
    "        \"\"\"\n",
    "        self.table = self.connection.create_table(\n",
    "            table_name, data=data, mode=\"overwrite\"\n",
    "        )\n",
    "        self.id_cols[table_name] = id_col_name\n",
    "        self.embed_funcs[table_name] = embed_func\n",
    "\n",
    "    def search(self, table_name: str, vector: np.array, limit: int = 5):\n",
    "        \"\"\"\n",
    "        Find ids of KNN docs to vector\n",
    "        \"\"\"\n",
    "        self._check(table_name, check_conn=True, check_id=True)\n",
    "\n",
    "        id_col = self.id_cols[table_name]\n",
    "        result = (\n",
    "            self.connection[table_name].search(vector).limit(limit).select([id_col])\n",
    "        )\n",
    "\n",
    "        return result.to_pandas()[[id_col, \"_distance\"]]\n",
    "\n",
    "    def get_embedding_from_string(self, table_name, text: str) -> np.array:\n",
    "        self._check(table_name, check_embed=True)\n",
    "\n",
    "        return self.embed_funcs[table_name](text)\n",
    "\n",
    "    def get_embedding_from_id(self, table_name, id: str) -> np.array:\n",
    "        \"\"\"\n",
    "        Get the embedding from the table by id\n",
    "        \"\"\"\n",
    "        self._check(table_name, check_conn=True, check_id=True)\n",
    "\n",
    "        df = (\n",
    "            self.connection[table_name]\n",
    "            .search()\n",
    "            .where(f\"{self.id_cols[table_name]} = {id}\")\n",
    "            .to_pandas()[\"vector\"]\n",
    "        )\n",
    "\n",
    "        return df.iloc[0]"
   ]
  },
  {
   "cell_type": "code",
   "execution_count": 3,
   "metadata": {},
   "outputs": [],
   "source": [
    "import sentence_transformers\n",
    "\n",
    "\n",
    "def get_embedding(col: np.ndarray, model_name):\n",
    "    model = sentence_transformers.SentenceTransformer(model_name)\n",
    "    e = model.encode(col)\n",
    "    return e"
   ]
  },
  {
   "cell_type": "code",
   "execution_count": 4,
   "metadata": {},
   "outputs": [
    {
     "name": "stdout",
     "output_type": "stream",
     "text": [
      "Making new LanceDB connection\n",
      "Loading vector data...\n"
     ]
    }
   ],
   "source": [
    "vectordbconn = VectorDBConnection()\n",
    "\n",
    "table_name = \"vis_papers\"\n",
    "\n",
    "print(\"Loading vector data...\")\n",
    "vis_paper_df = pd.read_parquet(\n",
    "    \"../datasets/local/vis_papers/processed/vis_papers.parquet\"\n",
    ")\n",
    "vis_paper_embeddings = torch.load(\n",
    "    \"../datasets/local/vis_papers/processed/vis_papers_embeddings.pt\"\n",
    ")\n",
    "\n",
    "vis_paper_df[\"vector\"] = list(vis_paper_embeddings.numpy())\n",
    "embed_func = lambda x: get_embedding(x, \"all-mpnet-base-v2\")\n",
    "\n",
    "vectordbconn.add_table(table_name, vis_paper_df, \"id\", embed_func)"
   ]
  },
  {
   "cell_type": "code",
   "execution_count": 6,
   "metadata": {},
   "outputs": [
    {
     "data": {
      "text/plain": [
       "'[{\"id\":1,\"_distance\":0.0},{\"id\":410,\"_distance\":0.7563974261},{\"id\":385,\"_distance\":0.7908704877},{\"id\":517,\"_distance\":0.7967621684},{\"id\":642,\"_distance\":0.7972276211}]'"
      ]
     },
     "execution_count": 6,
     "metadata": {},
     "output_type": "execute_result"
    }
   ],
   "source": [
    "vec = vectordbconn.get_embedding_from_id(table_name, 1)\n",
    "r = vectordbconn.search(table_name, vec)\n",
    "\n",
    "r.to_json(orient=\"records\")"
   ]
  },
  {
   "cell_type": "code",
   "execution_count": 27,
   "metadata": {},
   "outputs": [
    {
     "data": {
      "text/plain": [
       "'{\"id\":{\"0\":1,\"1\":410,\"2\":385,\"3\":517,\"4\":642},\"_distance\":{\"0\":0.0,\"1\":0.7563974261,\"2\":0.7908704877,\"3\":0.7967621684,\"4\":0.7972276211}}'"
      ]
     },
     "execution_count": 27,
     "metadata": {},
     "output_type": "execute_result"
    }
   ],
   "source": [
    "r.to_json()"
   ]
  },
  {
   "cell_type": "code",
   "execution_count": 28,
   "metadata": {},
   "outputs": [],
   "source": [
    "vec2 = vectordbconn.get_embedding_from_string(\n",
    "    table_name, \"visualizing text data system\"\n",
    ")\n",
    "\n",
    "r = vectordbconn.search(table_name, vec2)"
   ]
  },
  {
   "cell_type": "code",
   "execution_count": 29,
   "metadata": {},
   "outputs": [
    {
     "data": {
      "text/html": [
       "<div>\n",
       "<style scoped>\n",
       "    .dataframe tbody tr th:only-of-type {\n",
       "        vertical-align: middle;\n",
       "    }\n",
       "\n",
       "    .dataframe tbody tr th {\n",
       "        vertical-align: top;\n",
       "    }\n",
       "\n",
       "    .dataframe thead th {\n",
       "        text-align: right;\n",
       "    }\n",
       "</style>\n",
       "<table border=\"1\" class=\"dataframe\">\n",
       "  <thead>\n",
       "    <tr style=\"text-align: right;\">\n",
       "      <th></th>\n",
       "      <th>id</th>\n",
       "      <th>_distance</th>\n",
       "    </tr>\n",
       "  </thead>\n",
       "  <tbody>\n",
       "    <tr>\n",
       "      <th>0</th>\n",
       "      <td>1593</td>\n",
       "      <td>0.603509</td>\n",
       "    </tr>\n",
       "    <tr>\n",
       "      <th>1</th>\n",
       "      <td>819</td>\n",
       "      <td>0.647131</td>\n",
       "    </tr>\n",
       "    <tr>\n",
       "      <th>2</th>\n",
       "      <td>3160</td>\n",
       "      <td>0.664667</td>\n",
       "    </tr>\n",
       "    <tr>\n",
       "      <th>3</th>\n",
       "      <td>1832</td>\n",
       "      <td>0.666675</td>\n",
       "    </tr>\n",
       "    <tr>\n",
       "      <th>4</th>\n",
       "      <td>2271</td>\n",
       "      <td>0.682674</td>\n",
       "    </tr>\n",
       "  </tbody>\n",
       "</table>\n",
       "</div>"
      ],
      "text/plain": [
       "     id  _distance\n",
       "0  1593   0.603509\n",
       "1   819   0.647131\n",
       "2  3160   0.664667\n",
       "3  1832   0.666675\n",
       "4  2271   0.682674"
      ]
     },
     "execution_count": 29,
     "metadata": {},
     "output_type": "execute_result"
    }
   ],
   "source": [
    "r"
   ]
  },
  {
   "cell_type": "code",
   "execution_count": 33,
   "metadata": {},
   "outputs": [
    {
     "data": {
      "text/html": [
       "<div>\n",
       "<style scoped>\n",
       "    .dataframe tbody tr th:only-of-type {\n",
       "        vertical-align: middle;\n",
       "    }\n",
       "\n",
       "    .dataframe tbody tr th {\n",
       "        vertical-align: top;\n",
       "    }\n",
       "\n",
       "    .dataframe thead th {\n",
       "        text-align: right;\n",
       "    }\n",
       "</style>\n",
       "<table border=\"1\" class=\"dataframe\">\n",
       "  <thead>\n",
       "    <tr style=\"text-align: right;\">\n",
       "      <th></th>\n",
       "      <th>id</th>\n",
       "      <th>Conference</th>\n",
       "      <th>Year</th>\n",
       "      <th>Title</th>\n",
       "      <th>DOI</th>\n",
       "      <th>Link</th>\n",
       "      <th>FirstPage</th>\n",
       "      <th>LastPage</th>\n",
       "      <th>PaperType</th>\n",
       "      <th>Abstract</th>\n",
       "      <th>...</th>\n",
       "      <th>AminerCitationCount</th>\n",
       "      <th>CitationCount_CrossRef</th>\n",
       "      <th>PubsCited_CrossRef</th>\n",
       "      <th>Award</th>\n",
       "      <th>Abstract_text_length</th>\n",
       "      <th>Abstract_num_words</th>\n",
       "      <th>Abstract_max_word_length</th>\n",
       "      <th>Abstract_avg_word_length</th>\n",
       "      <th>Abstract_perc_special_chars</th>\n",
       "      <th>vector</th>\n",
       "    </tr>\n",
       "  </thead>\n",
       "  <tbody>\n",
       "    <tr>\n",
       "      <th>819</th>\n",
       "      <td>819</td>\n",
       "      <td>VAST</td>\n",
       "      <td>2016</td>\n",
       "      <td>TextTile: An Interactive Visualization Tool fo...</td>\n",
       "      <td>10.1109/TVCG.2016.2598447</td>\n",
       "      <td>http://dx.doi.org/10.1109/TVCG.2016.2598447</td>\n",
       "      <td>161</td>\n",
       "      <td>170</td>\n",
       "      <td>J</td>\n",
       "      <td>We describe TextTile, a data visualization too...</td>\n",
       "      <td>...</td>\n",
       "      <td>39.0</td>\n",
       "      <td>21.0</td>\n",
       "      <td>43.0</td>\n",
       "      <td>None</td>\n",
       "      <td>804</td>\n",
       "      <td>127</td>\n",
       "      <td>15</td>\n",
       "      <td>5.338583</td>\n",
       "      <td>0.009950</td>\n",
       "      <td>[-0.022825448, 0.027768482, -0.058228966, -0.0...</td>\n",
       "    </tr>\n",
       "    <tr>\n",
       "      <th>1593</th>\n",
       "      <td>1593</td>\n",
       "      <td>VAST</td>\n",
       "      <td>2010</td>\n",
       "      <td>Understanding text corpora with multiple facets</td>\n",
       "      <td>10.1109/VAST.2010.5652931</td>\n",
       "      <td>http://dx.doi.org/10.1109/VAST.2010.5652931</td>\n",
       "      <td>99</td>\n",
       "      <td>106</td>\n",
       "      <td>C</td>\n",
       "      <td>Text visualization becomes an increasingly mor...</td>\n",
       "      <td>...</td>\n",
       "      <td>86.0</td>\n",
       "      <td>36.0</td>\n",
       "      <td>29.0</td>\n",
       "      <td>None</td>\n",
       "      <td>1113</td>\n",
       "      <td>172</td>\n",
       "      <td>16</td>\n",
       "      <td>5.476744</td>\n",
       "      <td>0.020665</td>\n",
       "      <td>[-0.012490144, -0.013318891, -0.05780364, 0.00...</td>\n",
       "    </tr>\n",
       "    <tr>\n",
       "      <th>3160</th>\n",
       "      <td>3160</td>\n",
       "      <td>InfoVis</td>\n",
       "      <td>1996</td>\n",
       "      <td>Visualizing the results of multimedia Web sear...</td>\n",
       "      <td>10.1109/INFVIS.1996.559219</td>\n",
       "      <td>http://dx.doi.org/10.1109/INFVIS.1996.559219</td>\n",
       "      <td>64</td>\n",
       "      <td>65, 122</td>\n",
       "      <td>M</td>\n",
       "      <td>Search engines are very useful because they al...</td>\n",
       "      <td>...</td>\n",
       "      <td>32.0</td>\n",
       "      <td>10.0</td>\n",
       "      <td>2.0</td>\n",
       "      <td>None</td>\n",
       "      <td>414</td>\n",
       "      <td>69</td>\n",
       "      <td>14</td>\n",
       "      <td>5.014493</td>\n",
       "      <td>0.021739</td>\n",
       "      <td>[0.0064505064, -0.017319938, -0.033198442, 0.0...</td>\n",
       "    </tr>\n",
       "  </tbody>\n",
       "</table>\n",
       "<p>3 rows × 25 columns</p>\n",
       "</div>"
      ],
      "text/plain": [
       "        id Conference  Year  \\\n",
       "819    819       VAST  2016   \n",
       "1593  1593       VAST  2010   \n",
       "3160  3160    InfoVis  1996   \n",
       "\n",
       "                                                  Title  \\\n",
       "819   TextTile: An Interactive Visualization Tool fo...   \n",
       "1593    Understanding text corpora with multiple facets   \n",
       "3160  Visualizing the results of multimedia Web sear...   \n",
       "\n",
       "                             DOI  \\\n",
       "819    10.1109/TVCG.2016.2598447   \n",
       "1593   10.1109/VAST.2010.5652931   \n",
       "3160  10.1109/INFVIS.1996.559219   \n",
       "\n",
       "                                              Link FirstPage LastPage  \\\n",
       "819    http://dx.doi.org/10.1109/TVCG.2016.2598447       161      170   \n",
       "1593   http://dx.doi.org/10.1109/VAST.2010.5652931        99      106   \n",
       "3160  http://dx.doi.org/10.1109/INFVIS.1996.559219        64  65, 122   \n",
       "\n",
       "     PaperType                                           Abstract  ...  \\\n",
       "819          J  We describe TextTile, a data visualization too...  ...   \n",
       "1593         C  Text visualization becomes an increasingly mor...  ...   \n",
       "3160         M  Search engines are very useful because they al...  ...   \n",
       "\n",
       "     AminerCitationCount CitationCount_CrossRef PubsCited_CrossRef Award  \\\n",
       "819                 39.0                   21.0               43.0  None   \n",
       "1593                86.0                   36.0               29.0  None   \n",
       "3160                32.0                   10.0                2.0  None   \n",
       "\n",
       "     Abstract_text_length  Abstract_num_words  Abstract_max_word_length  \\\n",
       "819                   804                 127                        15   \n",
       "1593                 1113                 172                        16   \n",
       "3160                  414                  69                        14   \n",
       "\n",
       "      Abstract_avg_word_length Abstract_perc_special_chars  \\\n",
       "819                   5.338583                    0.009950   \n",
       "1593                  5.476744                    0.020665   \n",
       "3160                  5.014493                    0.021739   \n",
       "\n",
       "                                                 vector  \n",
       "819   [-0.022825448, 0.027768482, -0.058228966, -0.0...  \n",
       "1593  [-0.012490144, -0.013318891, -0.05780364, 0.00...  \n",
       "3160  [0.0064505064, -0.017319938, -0.033198442, 0.0...  \n",
       "\n",
       "[3 rows x 25 columns]"
      ]
     },
     "execution_count": 33,
     "metadata": {},
     "output_type": "execute_result"
    }
   ],
   "source": [
    "vis_paper_df[vis_paper_df.id.isin([1593, 819, 3160])]"
   ]
  },
  {
   "cell_type": "code",
   "execution_count": null,
   "metadata": {},
   "outputs": [],
   "source": [
    "uri = \"local/sample-lancedb\"\n",
    "db = lancedb.connect(uri)"
   ]
  },
  {
   "cell_type": "code",
   "execution_count": null,
   "metadata": {},
   "outputs": [],
   "source": [
    "df[\"vector\"] = list(vectors.numpy())"
   ]
  },
  {
   "cell_type": "markdown",
   "metadata": {},
   "source": [
    "Make a lancedb table, if want can index to support faster searching. By default does exhaustive KNN search, but once index created can do faster ANN (approx NN) search. Create index with `tbl.create_index()`\n",
    "\n",
    "Docs say not really necessary unless >50k rows\n"
   ]
  },
  {
   "cell_type": "code",
   "execution_count": null,
   "metadata": {},
   "outputs": [],
   "source": [
    "db.create_table(\"vis_papers\", data=df, mode=\"overwrite\")"
   ]
  },
  {
   "cell_type": "code",
   "execution_count": null,
   "metadata": {},
   "outputs": [],
   "source": [
    "def search_by_index(idx):\n",
    "    query = df.iloc[idx]\n",
    "    result = do_search(query.vector)\n",
    "    return query, result\n",
    "\n",
    "\n",
    "def do_search(vector, limit=5, id_col_name=\"id\"):\n",
    "    result = db[\"vis_papers\"].search(vector).limit(limit).select([id_col_name])\n",
    "    return result.to_pandas()[[id_col_name, \"_distance\"]]"
   ]
  },
  {
   "cell_type": "code",
   "execution_count": null,
   "metadata": {},
   "outputs": [],
   "source": [
    "\"vis_papers\" in db"
   ]
  },
  {
   "cell_type": "code",
   "execution_count": null,
   "metadata": {},
   "outputs": [],
   "source": [
    "original, result = search_by_index(100)"
   ]
  },
  {
   "cell_type": "code",
   "execution_count": null,
   "metadata": {},
   "outputs": [],
   "source": [
    "original"
   ]
  },
  {
   "cell_type": "code",
   "execution_count": null,
   "metadata": {},
   "outputs": [],
   "source": [
    "result"
   ]
  },
  {
   "cell_type": "code",
   "execution_count": null,
   "metadata": {},
   "outputs": [],
   "source": [
    "result.select([\"id\"]).to_pandas()"
   ]
  },
  {
   "cell_type": "code",
   "execution_count": null,
   "metadata": {},
   "outputs": [],
   "source": [
    "dir(result)"
   ]
  },
  {
   "cell_type": "code",
   "execution_count": null,
   "metadata": {},
   "outputs": [],
   "source": [
    "print(original.Title)"
   ]
  },
  {
   "cell_type": "code",
   "execution_count": null,
   "metadata": {},
   "outputs": [],
   "source": [
    "for row in result[[\"Title\", \"Abstract\"]].iterrows():\n",
    "    print(row[1].Title)"
   ]
  },
  {
   "cell_type": "code",
   "execution_count": null,
   "metadata": {},
   "outputs": [],
   "source": [
    "df"
   ]
  },
  {
   "cell_type": "code",
   "execution_count": null,
   "metadata": {},
   "outputs": [],
   "source": [
    "import sentence_transformers"
   ]
  },
  {
   "cell_type": "code",
   "execution_count": null,
   "metadata": {},
   "outputs": [],
   "source": [
    "query = \"A new approach to visualizing data\"\n",
    "\n",
    "\n",
    "model = sentence_transformers.SentenceTransformer(\"all-mpnet-base-v2\")\n",
    "\n",
    "e = model.encode(\n",
    "    query,\n",
    ")\n",
    "\n",
    "print(\"Created embedding of shape\", e.shape)"
   ]
  },
  {
   "cell_type": "code",
   "execution_count": null,
   "metadata": {},
   "outputs": [],
   "source": [
    "type(e)"
   ]
  },
  {
   "cell_type": "code",
   "execution_count": null,
   "metadata": {},
   "outputs": [],
   "source": [
    "def embed_my_data(query):\n",
    "    model = sentence_transformers.SentenceTransformer(\"all-mpnet-base-v2\")\n",
    "    return model.encode(query)"
   ]
  },
  {
   "cell_type": "code",
   "execution_count": null,
   "metadata": {},
   "outputs": [],
   "source": [
    "embed_my_data(\"A new approach to visualizing data\")"
   ]
  },
  {
   "cell_type": "code",
   "execution_count": null,
   "metadata": {},
   "outputs": [],
   "source": [
    "p = db[\"vis_papers\"].search().where(\"id = 55\").to_pandas()[\"vector\"]\n",
    "\n",
    "p.iloc[0]\n",
    "# p.values[0]"
   ]
  },
  {
   "cell_type": "code",
   "execution_count": null,
   "metadata": {},
   "outputs": [],
   "source": [
    "df"
   ]
  },
  {
   "cell_type": "code",
   "execution_count": null,
   "metadata": {},
   "outputs": [],
   "source": []
  }
 ],
 "metadata": {
  "kernelspec": {
   "display_name": "textprofiler",
   "language": "python",
   "name": "python3"
  },
  "language_info": {
   "codemirror_mode": {
    "name": "ipython",
    "version": 3
   },
   "file_extension": ".py",
   "mimetype": "text/x-python",
   "name": "python",
   "nbconvert_exporter": "python",
   "pygments_lexer": "ipython3",
   "version": "3.10.13"
  }
 },
 "nbformat": 4,
 "nbformat_minor": 2
}
