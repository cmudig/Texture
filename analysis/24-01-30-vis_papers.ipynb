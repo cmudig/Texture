{
 "cells": [
  {
   "cell_type": "code",
   "execution_count": 1,
   "metadata": {},
   "outputs": [],
   "source": [
    "import pandas as pd"
   ]
  },
  {
   "cell_type": "code",
   "execution_count": 2,
   "metadata": {},
   "outputs": [],
   "source": [
    "df = pd.read_csv(\n",
    "    \"../datasets/local/vis_papers/IEEE VIS papers 1990-2022 - Main dataset.csv\"\n",
    ")"
   ]
  },
  {
   "cell_type": "code",
   "execution_count": 22,
   "metadata": {},
   "outputs": [],
   "source": [
    "abstracts = df[\"Abstract\"]\n",
    "abstracts_non_null = abstracts.dropna().reset_index(drop=True)"
   ]
  },
  {
   "cell_type": "code",
   "execution_count": 4,
   "metadata": {},
   "outputs": [
    {
     "name": "stderr",
     "output_type": "stream",
     "text": [
      "/Users/wepperso/miniconda3/envs/textprofiler/lib/python3.10/site-packages/tqdm/auto.py:21: TqdmWarning: IProgress not found. Please update jupyter and ipywidgets. See https://ipywidgets.readthedocs.io/en/stable/user_install.html\n",
      "  from .autonotebook import tqdm as notebook_tqdm\n"
     ]
    }
   ],
   "source": [
    "from textprofilerbackend.transform import get_word_tokens_batch, get_byte_encoding_batch\n",
    "from textprofilerbackend.textclean import get_textcol_metadata_embeddings"
   ]
  },
  {
   "cell_type": "code",
   "execution_count": 5,
   "metadata": {},
   "outputs": [],
   "source": [
    "model_names = [\n",
    "    \"all-mpnet-base-v2\",  # best performing on leaderboard\n",
    "    # \"all-MiniLM-L6-v2\",  # smaller and faster\n",
    "]"
   ]
  },
  {
   "cell_type": "code",
   "execution_count": null,
   "metadata": {},
   "outputs": [],
   "source": []
  },
  {
   "cell_type": "code",
   "execution_count": 26,
   "metadata": {},
   "outputs": [
    {
     "name": "stdout",
     "output_type": "stream",
     "text": [
      "Created embedding of shape torch.Size([3549, 768]) with all-mpnet-base-v2\n"
     ]
    }
   ],
   "source": [
    "meta_data_dict = get_textcol_metadata_embeddings(abstracts_non_null, model_names)"
   ]
  },
  {
   "cell_type": "code",
   "execution_count": 27,
   "metadata": {},
   "outputs": [
    {
     "data": {
      "text/html": [
       "<div>\n",
       "<style scoped>\n",
       "    .dataframe tbody tr th:only-of-type {\n",
       "        vertical-align: middle;\n",
       "    }\n",
       "\n",
       "    .dataframe tbody tr th {\n",
       "        vertical-align: top;\n",
       "    }\n",
       "\n",
       "    .dataframe thead th {\n",
       "        text-align: right;\n",
       "    }\n",
       "</style>\n",
       "<table border=\"1\" class=\"dataframe\">\n",
       "  <thead>\n",
       "    <tr style=\"text-align: right;\">\n",
       "      <th></th>\n",
       "      <th>Abstract_text_length</th>\n",
       "      <th>Abstract_num_words</th>\n",
       "      <th>Abstract_max_word_length</th>\n",
       "      <th>Abstract_avg_word_length</th>\n",
       "      <th>Abstract_perc_special_chars</th>\n",
       "    </tr>\n",
       "  </thead>\n",
       "  <tbody>\n",
       "    <tr>\n",
       "      <th>0</th>\n",
       "      <td>2109</td>\n",
       "      <td>286</td>\n",
       "      <td>22</td>\n",
       "      <td>6.377622</td>\n",
       "      <td>0.016121</td>\n",
       "    </tr>\n",
       "    <tr>\n",
       "      <th>1</th>\n",
       "      <td>1153</td>\n",
       "      <td>167</td>\n",
       "      <td>14</td>\n",
       "      <td>5.910180</td>\n",
       "      <td>0.019948</td>\n",
       "    </tr>\n",
       "    <tr>\n",
       "      <th>2</th>\n",
       "      <td>1543</td>\n",
       "      <td>220</td>\n",
       "      <td>16</td>\n",
       "      <td>6.018182</td>\n",
       "      <td>0.017498</td>\n",
       "    </tr>\n",
       "    <tr>\n",
       "      <th>3</th>\n",
       "      <td>1472</td>\n",
       "      <td>223</td>\n",
       "      <td>15</td>\n",
       "      <td>5.605381</td>\n",
       "      <td>0.025136</td>\n",
       "    </tr>\n",
       "    <tr>\n",
       "      <th>4</th>\n",
       "      <td>1879</td>\n",
       "      <td>272</td>\n",
       "      <td>17</td>\n",
       "      <td>5.911765</td>\n",
       "      <td>0.027674</td>\n",
       "    </tr>\n",
       "    <tr>\n",
       "      <th>...</th>\n",
       "      <td>...</td>\n",
       "      <td>...</td>\n",
       "      <td>...</td>\n",
       "      <td>...</td>\n",
       "      <td>...</td>\n",
       "    </tr>\n",
       "    <tr>\n",
       "      <th>3544</th>\n",
       "      <td>758</td>\n",
       "      <td>108</td>\n",
       "      <td>28</td>\n",
       "      <td>6.027778</td>\n",
       "      <td>0.026385</td>\n",
       "    </tr>\n",
       "    <tr>\n",
       "      <th>3545</th>\n",
       "      <td>786</td>\n",
       "      <td>111</td>\n",
       "      <td>29</td>\n",
       "      <td>6.090090</td>\n",
       "      <td>0.036896</td>\n",
       "    </tr>\n",
       "    <tr>\n",
       "      <th>3546</th>\n",
       "      <td>898</td>\n",
       "      <td>138</td>\n",
       "      <td>25</td>\n",
       "      <td>5.514493</td>\n",
       "      <td>0.026726</td>\n",
       "    </tr>\n",
       "    <tr>\n",
       "      <th>3547</th>\n",
       "      <td>879</td>\n",
       "      <td>116</td>\n",
       "      <td>26</td>\n",
       "      <td>6.586207</td>\n",
       "      <td>0.018203</td>\n",
       "    </tr>\n",
       "    <tr>\n",
       "      <th>3548</th>\n",
       "      <td>949</td>\n",
       "      <td>140</td>\n",
       "      <td>30</td>\n",
       "      <td>5.785714</td>\n",
       "      <td>0.024236</td>\n",
       "    </tr>\n",
       "  </tbody>\n",
       "</table>\n",
       "<p>3549 rows × 5 columns</p>\n",
       "</div>"
      ],
      "text/plain": [
       "      Abstract_text_length  Abstract_num_words  Abstract_max_word_length  \\\n",
       "0                     2109                 286                        22   \n",
       "1                     1153                 167                        14   \n",
       "2                     1543                 220                        16   \n",
       "3                     1472                 223                        15   \n",
       "4                     1879                 272                        17   \n",
       "...                    ...                 ...                       ...   \n",
       "3544                   758                 108                        28   \n",
       "3545                   786                 111                        29   \n",
       "3546                   898                 138                        25   \n",
       "3547                   879                 116                        26   \n",
       "3548                   949                 140                        30   \n",
       "\n",
       "      Abstract_avg_word_length  Abstract_perc_special_chars  \n",
       "0                     6.377622                     0.016121  \n",
       "1                     5.910180                     0.019948  \n",
       "2                     6.018182                     0.017498  \n",
       "3                     5.605381                     0.025136  \n",
       "4                     5.911765                     0.027674  \n",
       "...                        ...                          ...  \n",
       "3544                  6.027778                     0.026385  \n",
       "3545                  6.090090                     0.036896  \n",
       "3546                  5.514493                     0.026726  \n",
       "3547                  6.586207                     0.018203  \n",
       "3548                  5.785714                     0.024236  \n",
       "\n",
       "[3549 rows x 5 columns]"
      ]
     },
     "execution_count": 27,
     "metadata": {},
     "output_type": "execute_result"
    }
   ],
   "source": [
    "meta_data_dict[\"heuristic_metadata\"]"
   ]
  },
  {
   "cell_type": "code",
   "execution_count": 28,
   "metadata": {},
   "outputs": [
    {
     "data": {
      "text/plain": [
       "tensor([[-0.0186,  0.0270, -0.0430,  ...,  0.0387, -0.0176, -0.0138],\n",
       "        [-0.0256,  0.0685, -0.0391,  ..., -0.0113, -0.0013,  0.0081],\n",
       "        [-0.0303, -0.0032, -0.0174,  ...,  0.0170, -0.0464, -0.0170],\n",
       "        ...,\n",
       "        [-0.0179, -0.0226, -0.0176,  ..., -0.0003,  0.0411,  0.0018],\n",
       "        [-0.0503,  0.0167, -0.0140,  ...,  0.0455, -0.0256, -0.0077],\n",
       "        [-0.0025,  0.0178, -0.0276,  ...,  0.0423, -0.0274,  0.0337]])"
      ]
     },
     "execution_count": 28,
     "metadata": {},
     "output_type": "execute_result"
    }
   ],
   "source": [
    "meta_data_dict[\"model_embeddings\"][\"all-mpnet-base-v2\"]"
   ]
  },
  {
   "cell_type": "code",
   "execution_count": 29,
   "metadata": {},
   "outputs": [],
   "source": [
    "words = get_word_tokens_batch(abstracts_non_null)"
   ]
  },
  {
   "cell_type": "code",
   "execution_count": 30,
   "metadata": {},
   "outputs": [],
   "source": [
    "tokens = get_byte_encoding_batch(abstracts_non_null)"
   ]
  },
  {
   "cell_type": "code",
   "execution_count": 33,
   "metadata": {},
   "outputs": [],
   "source": [
    "df_non_null = df[df.Abstract.notnull()]"
   ]
  },
  {
   "cell_type": "code",
   "execution_count": 38,
   "metadata": {},
   "outputs": [],
   "source": [
    "df_non_null = df_non_null.reset_index(drop=True)"
   ]
  },
  {
   "cell_type": "code",
   "execution_count": 41,
   "metadata": {},
   "outputs": [],
   "source": [
    "df_with_metadat = df_non_null.join(meta_data_dict[\"heuristic_metadata\"])"
   ]
  },
  {
   "cell_type": "code",
   "execution_count": 44,
   "metadata": {},
   "outputs": [],
   "source": [
    "df_with_metadat = df_with_metadat.reset_index().rename(columns={\"index\": \"id\"})"
   ]
  },
  {
   "cell_type": "code",
   "execution_count": 46,
   "metadata": {},
   "outputs": [],
   "source": [
    "df_with_metadat.to_parquet(\"../datasets/local/vis_papers/processed/vis_papers.parquet\")"
   ]
  },
  {
   "cell_type": "code",
   "execution_count": 53,
   "metadata": {},
   "outputs": [],
   "source": [
    "word_long_format = pd.DataFrame(\n",
    "    [(word, i) for i, doc in enumerate(words) for word in doc], columns=[\"word\", \"id\"]\n",
    ")"
   ]
  },
  {
   "cell_type": "code",
   "execution_count": 54,
   "metadata": {},
   "outputs": [],
   "source": [
    "token_long_format = pd.DataFrame(\n",
    "    [(token, i) for i, doc in enumerate(tokens) for token in doc],\n",
    "    columns=[\"token\", \"id\"],\n",
    ")"
   ]
  },
  {
   "cell_type": "code",
   "execution_count": 58,
   "metadata": {},
   "outputs": [],
   "source": [
    "token_long_format.to_parquet(\n",
    "    \"../datasets/local/vis_papers/processed/vis_papers_tokens.parquet\"\n",
    ")\n",
    "word_long_format.to_parquet(\n",
    "    \"../datasets/local/vis_papers/processed/vis_papers_words.parquet\"\n",
    ")"
   ]
  },
  {
   "cell_type": "code",
   "execution_count": 60,
   "metadata": {},
   "outputs": [
    {
     "data": {
      "text/plain": [
       "torch.Size([3549, 768])"
      ]
     },
     "execution_count": 60,
     "metadata": {},
     "output_type": "execute_result"
    }
   ],
   "source": [
    "meta_data_dict[\"model_embeddings\"][\"all-mpnet-base-v2\"].shape"
   ]
  },
  {
   "cell_type": "code",
   "execution_count": 63,
   "metadata": {},
   "outputs": [],
   "source": [
    "import torch"
   ]
  },
  {
   "cell_type": "code",
   "execution_count": 64,
   "metadata": {},
   "outputs": [],
   "source": [
    "torch.save(\n",
    "    meta_data_dict[\"model_embeddings\"][\"all-mpnet-base-v2\"],\n",
    "    \"../datasets/local/vis_papers/processed/vis_papers_embeddings.pt\",\n",
    ")"
   ]
  },
  {
   "cell_type": "code",
   "execution_count": null,
   "metadata": {},
   "outputs": [],
   "source": []
  }
 ],
 "metadata": {
  "kernelspec": {
   "display_name": "textprofiler",
   "language": "python",
   "name": "python3"
  },
  "language_info": {
   "codemirror_mode": {
    "name": "ipython",
    "version": 3
   },
   "file_extension": ".py",
   "mimetype": "text/x-python",
   "name": "python",
   "nbconvert_exporter": "python",
   "pygments_lexer": "ipython3",
   "version": "3.10.13"
  }
 },
 "nbformat": 4,
 "nbformat_minor": 2
}
