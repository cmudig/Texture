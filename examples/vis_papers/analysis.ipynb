{
 "cells": [
  {
   "cell_type": "code",
   "execution_count": null,
   "metadata": {},
   "outputs": [],
   "source": [
    "import pandas as pd\n",
    "import texture\n",
    "from texture.models import DatasetSchema, Column, DerivedSchema"
   ]
  },
  {
   "cell_type": "code",
   "execution_count": null,
   "metadata": {},
   "outputs": [],
   "source": [
    "df_main = pd.read_parquet(\"./data/1_main.parquet\")\n",
    "df_words = pd.read_parquet(\"./data/2_words.parquet\")\n",
    "df_authors = pd.read_parquet(\"./data/3_authors.parquet\")\n",
    "df_keywords = pd.read_parquet(\"./data/4_keywords.parquet\")"
   ]
  },
  {
   "cell_type": "code",
   "execution_count": null,
   "metadata": {},
   "outputs": [],
   "source": [
    "load_tables = {\n",
    "    \"main_table\": df_main,\n",
    "    \"words_table\": df_words,\n",
    "    \"authors_table\": df_authors,\n",
    "    \"keywords_table\": df_keywords,\n",
    "}\n",
    "\n",
    "schema = DatasetSchema(\n",
    "    name=\"main_table\",\n",
    "    columns=[\n",
    "        Column(name=\"Title\", type=\"text\", derivedSchema=None),\n",
    "        Column(name=\"Abstract\", type=\"text\", derivedSchema=None),\n",
    "        Column(\n",
    "            name=\"word\",\n",
    "            type=\"categorical\",\n",
    "            derivedSchema=DerivedSchema(\n",
    "                is_segment=True,\n",
    "                table_name=\"words_table\",\n",
    "                derived_from=\"Abstract\",\n",
    "                derived_how=None,\n",
    "            ),\n",
    "        ),\n",
    "        Column(\n",
    "            name=\"pos\",\n",
    "            type=\"categorical\",\n",
    "            derivedSchema=DerivedSchema(\n",
    "                is_segment=True,\n",
    "                table_name=\"words_table\",\n",
    "                derived_from=\"Abstract\",\n",
    "                derived_how=None,\n",
    "            ),\n",
    "        ),\n",
    "        # hierarchical non-segment\n",
    "        Column(\n",
    "            name=\"author\",\n",
    "            type=\"categorical\",\n",
    "            derivedSchema=DerivedSchema(\n",
    "                is_segment=False,\n",
    "                table_name=\"authors_table\",\n",
    "                derived_from=None,\n",
    "                derived_how=None,\n",
    "            ),\n",
    "        ),\n",
    "        Column(\n",
    "            name=\"keyword\",\n",
    "            type=\"categorical\",\n",
    "            derivedSchema=DerivedSchema(\n",
    "                is_segment=False,\n",
    "                table_name=\"keywords_table\",\n",
    "                derived_from=None,\n",
    "                derived_how=None,\n",
    "            ),\n",
    "        ),\n",
    "        Column(name=\"Year\", type=\"number\", derivedSchema=None),\n",
    "        Column(name=\"Conference\", type=\"categorical\", derivedSchema=None),\n",
    "        Column(name=\"PaperType\", type=\"categorical\", derivedSchema=None),\n",
    "        Column(name=\"CitationCount_CrossRef\", type=\"number\", derivedSchema=None),\n",
    "        Column(name=\"Award\", type=\"categorical\", derivedSchema=None),\n",
    "    ],\n",
    "    primary_key=Column(name=\"id\", type=\"number\", derivedSchema=None),\n",
    "    origin=\"uploaded\",\n",
    "    has_embeddings=True,\n",
    "    has_projection=True,\n",
    ")"
   ]
  },
  {
   "cell_type": "code",
   "execution_count": null,
   "metadata": {},
   "outputs": [],
   "source": [
    "def get_embedding(value: str):\n",
    "    import sentence_transformers\n",
    "\n",
    "    model = sentence_transformers.SentenceTransformer(\"all-mpnet-base-v2\")\n",
    "    e = model.encode(value)\n",
    "\n",
    "    return e"
   ]
  },
  {
   "cell_type": "code",
   "execution_count": null,
   "metadata": {},
   "outputs": [],
   "source": [
    "texture.run(\n",
    "    schema=schema, load_tables=load_tables, create_new_embedding_func=get_embedding\n",
    ")"
   ]
  }
 ],
 "metadata": {
  "kernelspec": {
   "display_name": "texture-3.12",
   "language": "python",
   "name": "python3"
  },
  "language_info": {
   "codemirror_mode": {
    "name": "ipython",
    "version": 3
   },
   "file_extension": ".py",
   "mimetype": "text/x-python",
   "name": "python",
   "nbconvert_exporter": "python",
   "pygments_lexer": "ipython3",
   "version": "3.12.8"
  }
 },
 "nbformat": 4,
 "nbformat_minor": 2
}
