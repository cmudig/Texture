{
 "cells": [
  {
   "cell_type": "code",
   "execution_count": 1,
   "metadata": {},
   "outputs": [],
   "source": [
    "import pandas as pd\n",
    "import texture\n",
    "from texture.models import DatasetSchema, Column, DerivedSchema"
   ]
  },
  {
   "cell_type": "code",
   "execution_count": 2,
   "metadata": {},
   "outputs": [],
   "source": [
    "df_main = pd.read_parquet(\"data/1_main.parquet\")\n",
    "df_ratings = pd.read_parquet(\"data/2_ratings.parquet\")\n",
    "df_clusters = pd.read_parquet(\"data/3_rationale_clusters.parquet\")\n",
    "df_ngrams_A = pd.read_parquet(\"data/4_ngrams_A.parquet\")\n",
    "df_ngrams_B = pd.read_parquet(\"data/5_ngrams_B.parquet\")"
   ]
  },
  {
   "cell_type": "code",
   "execution_count": 3,
   "metadata": {},
   "outputs": [],
   "source": [
    "# schema, load_tables = texture.preprocess(df_main)"
   ]
  },
  {
   "cell_type": "code",
   "execution_count": 4,
   "metadata": {},
   "outputs": [],
   "source": [
    "load_tables = {\n",
    "    \"main\": df_main,\n",
    "    \"ratings\": df_ratings,\n",
    "    \"clusters\": df_clusters,\n",
    "    \"ngramsA_table\": df_ngrams_A,\n",
    "    \"ngramsB_table\": df_ngrams_B,\n",
    "}\n",
    "\n",
    "schema = DatasetSchema(\n",
    "    name=\"main\",\n",
    "    columns=[\n",
    "        # INPUTS\n",
    "        Column(name=\"input_text\", type=\"text\"),\n",
    "        Column(name=\"A_output_text\", type=\"text\"),\n",
    "        Column(name=\"B_output_text\", type=\"text\"),\n",
    "        Column(name=\"rationales\", type=\"text\"),\n",
    "        Column(\n",
    "            name=\"ngram_A\",\n",
    "            type=\"categorical\",\n",
    "            derivedSchema=DerivedSchema(\n",
    "                is_segment=True,\n",
    "                table_name=\"ngramsA_table\",\n",
    "                derived_from=\"A_output_text\",\n",
    "                derived_how=None,\n",
    "            ),\n",
    "        ),\n",
    "        Column(\n",
    "            name=\"ngram_B\",\n",
    "            type=\"categorical\",\n",
    "            derivedSchema=DerivedSchema(\n",
    "                is_segment=True,\n",
    "                table_name=\"ngramsB_table\",\n",
    "                derived_from=\"B_output_text\",\n",
    "                derived_how=None,\n",
    "            ),\n",
    "        ),\n",
    "        # RATIONALES and ratings\n",
    "        Column(name=\"winner\", type=\"categorical\"),\n",
    "        Column(name=\"score\", type=\"number\"),\n",
    "        Column(name=\"winner_degree\", type=\"categorical\"),\n",
    "        Column(\n",
    "            name=\"individual_ratings\",\n",
    "            type=\"categorical\",\n",
    "            derivedSchema=DerivedSchema(\n",
    "                is_segment=False,\n",
    "                table_name=\"ratings\",\n",
    "                derived_from=None,\n",
    "                derived_how=None,\n",
    "            ),\n",
    "        ),\n",
    "        Column(\n",
    "            name=\"individual_scores\",\n",
    "            type=\"number\",\n",
    "            derivedSchema=DerivedSchema(\n",
    "                is_segment=False,\n",
    "                table_name=\"ratings\",\n",
    "                derived_from=None,\n",
    "                derived_how=None,\n",
    "            ),\n",
    "        ),\n",
    "        Column(\n",
    "            name=\"rationale_clusters\",\n",
    "            type=\"categorical\",\n",
    "            derivedSchema=DerivedSchema(\n",
    "                is_segment=False,\n",
    "                table_name=\"clusters\",\n",
    "                derived_from=None,\n",
    "                derived_how=None,\n",
    "            ),\n",
    "        ),\n",
    "        # METADATA\n",
    "        Column(name=\"tag\", type=\"categorical\"),\n",
    "        Column(name=\"A_toxic\", type=\"number\"),\n",
    "        Column(name=\"B_toxic\", type=\"number\"),\n",
    "        Column(name=\"A_sexual\", type=\"number\"),\n",
    "        Column(name=\"B_sexual\", type=\"number\"),\n",
    "        Column(name=\"A_violent\", type=\"number\"),\n",
    "        Column(name=\"B_violent\", type=\"number\"),\n",
    "        Column(name=\"A_word_count\", type=\"number\"),\n",
    "        Column(name=\"B_word_count\", type=\"number\"),\n",
    "        Column(\n",
    "            name=\"A_has_bullet_lists\",\n",
    "            type=\"categorical\",\n",
    "            derivedSchema=None,\n",
    "            extra=None,\n",
    "        ),\n",
    "        Column(\n",
    "            name=\"B_has_bullet_lists\",\n",
    "            type=\"categorical\",\n",
    "            derivedSchema=None,\n",
    "            extra=None,\n",
    "        ),\n",
    "        Column(name=\"A_has_headings\", type=\"categorical\"),\n",
    "        Column(name=\"B_has_headings\", type=\"categorical\"),\n",
    "        Column(name=\"A_has_url\", type=\"categorical\"),\n",
    "        Column(name=\"B_has_url\", type=\"categorical\"),\n",
    "        Column(name=\"A_has_sure\", type=\"categorical\"),\n",
    "        Column(name=\"B_has_sure\", type=\"categorical\"),\n",
    "    ],\n",
    "    primary_key=Column(name=\"id\", type=\"number\"),\n",
    "    origin=\"uploaded\",\n",
    "    has_embeddings=False,\n",
    "    has_projection=False,\n",
    "    search_result=None,\n",
    ")"
   ]
  },
  {
   "cell_type": "code",
   "execution_count": 5,
   "metadata": {},
   "outputs": [
    {
     "name": "stdout",
     "output_type": "stream",
     "text": [
      "Running from a notebook, starting a new process\n"
     ]
    },
    {
     "name": "stdout",
     "output_type": "stream",
     "text": [
      "\n",
      "\u001b[1mTexture\u001b[0m running on http://localhost:8080\n",
      "\n"
     ]
    }
   ],
   "source": [
    "texture.run(schema=schema, load_tables=load_tables)"
   ]
  },
  {
   "cell_type": "code",
   "execution_count": null,
   "metadata": {},
   "outputs": [],
   "source": []
  }
 ],
 "metadata": {
  "kernelspec": {
   "display_name": "texture-dev-3.12",
   "language": "python",
   "name": "python3"
  },
  "language_info": {
   "codemirror_mode": {
    "name": "ipython",
    "version": 3
   },
   "file_extension": ".py",
   "mimetype": "text/x-python",
   "name": "python",
   "nbconvert_exporter": "python",
   "pygments_lexer": "ipython3",
   "version": "3.12.8"
  }
 },
 "nbformat": 4,
 "nbformat_minor": 2
}
